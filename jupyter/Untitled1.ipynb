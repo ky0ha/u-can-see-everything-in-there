{
 "cells": [
  {
   "cell_type": "code",
   "execution_count": 4,
   "metadata": {
    "scrolled": false
   },
   "outputs": [
    {
     "name": "stdout",
     "output_type": "stream",
     "text": [
      "数据集共有10000个数据。模型训练集共有9000个数据，占总数据集的90%。测试集共有1000个数据，占总数聚集的10%。\n",
      "\n",
      "测试结果显示：\n",
      "\n",
      "总测试数据个数：1000\n",
      "预测正确数据个数：821\n",
      "预测错误数据个数：179\n",
      "模型预测准确率：0.82%\n"
     ]
    },
    {
     "data": {
      "image/png": "[encoded data removed]",
      "text/plain": [
       "<Figure size 432x288 with 1 Axes>"
      ]
     },
     "metadata": {
      "needs_background": "light"
     },
     "output_type": "display_data"
    }
   ],
   "source": [
    "'''\n",
    "author: 杨斌\n",
    "ID: 201926205073\n",
    "date: 2020年12月15日\n",
    "title: 对银行贷款客户流失数据的预测模型\n",
    "'''\n",
    "#----------------------------------------------------------------------------------------------------------------------\n",
    "\n",
    "#方法构建部分\n",
    "def average(x, n):       #x为列表，n为列表个数，函数效果为求x的平均值\n",
    "    total=0\n",
    "    for i in range(n):\n",
    "        total+=x[i]\n",
    "    return total/n\n",
    "\n",
    "def getTheta(X_b, y):        #X_b为xi的训练集数值构成的矩阵， y为x对应的y的值构成的向量，函数效果为根据X_b和y求出x的参数矩阵\n",
    "    theta_best = np.linalg.inv(X_b.T.dot(X_b)).dot(X_b.T).dot(y)\n",
    "    return theta_best\n",
    "\n",
    "def estimate(theta_best, X, n=1):         #预测模型的函数模型，根据参数矩阵和输入的x矩阵，求得对应的预测结果y的向量\n",
    "    X=np.c_[np.ones(n),X]\n",
    "    X=X.T\n",
    "    theta_best=np.array([theta_best])\n",
    "    return theta_best.dot(X)\n",
    "\n",
    "#--------------------------------------------------------------------------------------------------------------------\n",
    "\n",
    "#引入库\n",
    "import pandas as pd\n",
    "import numpy as np\n",
    "from math import sqrt\n",
    "from matplotlib import pyplot as plt\n",
    "\n",
    "#打开文件\n",
    "fpath = \"C:/Users/25315/Desktop/Churn-Modelling.csv\"\n",
    "f = pd.read_csv(fpath)\n",
    "\n",
    "#数据清洗部分\n",
    "#剔除无关数据、相关性低数据（相关性指数低于0.001）、空数据\n",
    "f.drop([\"RowNumber\",\"CustomerId\",\"Surname\", \"HasCrCard\"], axis=1, inplace=True)\n",
    "f.dropna(axis=0,how='any',thresh=None,subset=None,inplace=True)\n",
    "#剔除读取自带的索引index\n",
    "f=f.reset_index(drop=True)\n",
    "#字符类型数据替换为数值类型\n",
    "dic = {\"France\":1, \"Spain\":2, \"Germany\":3}\n",
    "f[\"Geography\"] = f[\"Geography\"].map(dic)\n",
    "dicf = {\"Female\":0, \"Male\":1}\n",
    "f[\"Gender\"] = f[\"Gender\"].map(dicf)\n",
    "\n",
    "#拆分90%作为训练集\n",
    "n = len(f)\n",
    "n1 = int(len(f)*0.9)\n",
    "\n",
    "#数据提取赋值部分\n",
    "CS = f.loc[:,\"CreditScore\"]\n",
    "GY = f.loc[:,\"Geography\"]\n",
    "GR = f.loc[:,\"Gender\"]\n",
    "AGE = f.loc[:,\"Age\"]\n",
    "TE = f.loc[:,\"Tenure\"]\n",
    "BL = f.loc[:,\"Balance\"]\n",
    "NOP = f.loc[:,\"NumOfProducts\"]\n",
    "IAM = f.loc[:,\"IsActiveMember\"]\n",
    "ES = f.loc[:,\"EstimatedSalary\"]\n",
    "EXIT = f.loc[:,\"Exited\"]\n",
    "\n",
    "#训练集数据切分部分\n",
    "x1 = np.array(list(CS))[:n1]\n",
    "x2 = np.array(list(GY))[:n1]\n",
    "x3 = np.array(list(GR))[:n1]\n",
    "x4 = np.array(list(AGE))[:n1]\n",
    "x5 = np.array(list(TE))[:n1]\n",
    "x6 = np.array(list(BL))[:n1]\n",
    "x7 = np.array(list(NOP))[:n1]\n",
    "x8 = np.array(list(IAM))[:n1]\n",
    "x9 = np.array(list(ES))[:n1]\n",
    "y = np.array(list(EXIT))[:n1]\n",
    "\n",
    "#模型构建过程\n",
    "#获得x矩阵\n",
    "one = np.ones((n1,1))\n",
    "X_b = np.c_[one,x1,x2,x3,x4,x5,x6,x7,x8,x9]\n",
    "#带入x矩阵求得参数矩阵theta_best\n",
    "theta_best = getTheta(X_b,y)\n",
    "\n",
    "#----------------------------------------------------------------------------------------\n",
    "\n",
    "#测试部分\n",
    "\n",
    "#测试集数据切分部分\n",
    "x1 = np.array(list(CS))[n1:]\n",
    "x2 = np.array(list(GY))[n1:]\n",
    "x3 = np.array(list(GR))[n1:]\n",
    "x4 = np.array(list(AGE))[n1:]\n",
    "x5 = np.array(list(TE))[n1:]\n",
    "x6 = np.array(list(BL))[n1:]\n",
    "x7 = np.array(list(NOP))[n1:]\n",
    "x8 = np.array(list(IAM))[n1:]\n",
    "x9 = np.array(list(ES))[n1:]\n",
    "y = np.array(list(EXIT))[n1:]\n",
    "\n",
    "#待测数据处理\n",
    "X_t = np.c_[x1,x2,x3,x4,x5,x6,x7,x8,x9]\n",
    "\n",
    "#测试过程\n",
    "es = estimate(theta_best,X_t,int(n*0.1))[0]\n",
    "\n",
    "#测试结果处理统计\n",
    "xe = list(map(round, es.tolist()))\n",
    "re = y-xe\n",
    "right = re.tolist().count(0)\n",
    "wrong = int(n*0.1)-right\n",
    "rp = right/int(n*0.1)\n",
    "\n",
    "#测试结果展示\n",
    "print(\"数据集共有{}个数据。模型训练集共有{}个数据，占总数据集的90%。测试集共有{}个数据，占总数聚集的10%。\\n\".format(n, int(n*0.9), int(n*0.1)))\n",
    "print(\"测试结果显示：\\n\")\n",
    "print(\"总测试数据个数：{}\\n预测正确数据个数：{}\\n预测错误数据个数：{}\\n模型预测准确率：{:.2f}%\".format(int(n*0.1), right, wrong, rp))\n",
    "\n",
    "#测试结果柱状图展示\n",
    "TR = [\"right\", \"wrong\"]\n",
    "TA = [right, wrong]\n",
    "plt.title(\"the result of test\") \n",
    "plt.xlabel(\"test result\") \n",
    "plt.ylabel(\"amount\") \n",
    "for a,b in zip(TR,TA):\n",
    "    plt.text(a, b+2, b, ha='center', va= 'bottom')\n",
    "plt.ylim([0, 1000])\n",
    "plt.bar(TR,TA,0.5)\n",
    "plt.show()"
   ]
  },
  {
   "cell_type": "code",
   "execution_count": 14,
   "metadata": {},
   "outputs": [
    {
     "name": "stdout",
     "output_type": "stream",
     "text": [
      "   eno  cno  sno  grade\n",
      "0   11   12   13     14\n",
      "1   21   22   23     24\n"
     ]
    }
   ],
   "source": [
    "import pandas as pd\n",
    "data = pd.read_excel(\"C:\\\\Users\\\\25315\\\\Desktop\\\\test_result.xls\")\n",
    "print(data)\n",
    "eno = list(data.loc[:,\"eno\"])\n",
    "cno = list(data.loc[:,\"cno\"])\n",
    "sno = list(data.loc[:,\"sno\"])\n",
    "grade = list(data.loc[:,\"grade\"])"
   ]
  },
  {
   "cell_type": "code",
   "execution_count": 15,
   "metadata": {},
   "outputs": [
    {
     "name": "stdout",
     "output_type": "stream",
     "text": [
      "Insert values Successful! :>\n"
     ]
    }
   ],
   "source": [
    "import pymysql\n",
    "import pandas as pd\n",
    "\n",
    "data = pd.read_excel(\"C:\\\\Users\\\\25315\\\\Desktop\\\\test_result.xls\")\n",
    "print(data)\n",
    "eno = list(data.loc[:,\"eno\"])\n",
    "cno = list(data.loc[:,\"cno\"])\n",
    "sno = list(data.loc[:,\"sno\"])\n",
    "grade = list(data.loc[:,\"grade\"])\n",
    "\n",
    "dbhost = 'localhost'\n",
    "dbuser = 'root'\n",
    "dbpass = '123456'\n",
    "dbname = 'test_db'\n",
    "\n",
    "db = pymysql.connect(host=dbhost, user=dbuser, passwd=dbpass, database=dbname)\n",
    "cursor = db.cursor()\n",
    "# cursor.execute(\"SELECT * FROM test_tb\")\n",
    "# data = cursor.fetchall()\n",
    "# print (data)\n",
    "sql = \"insert into test_db.test_result(`eno`,`cno`,`sno`,`grade`) values \"\n",
    "for index,value in enumerate(sno):\n",
    "    sql = sql + \"({},{},{},{}),\".format(eno[index], cno[index], sno[index], grade[index])\n",
    "sql = sql[:-1] + \";\"\n",
    "    \n",
    "try:\n",
    "    cursor.execute(sql)\n",
    "    db.commit()\n",
    "except:\n",
    "    db.rollback()\n",
    "else:\n",
    "    print(\"Insert values Successful! ٩(๑>◡<๑)۶ \")\n",
    "db.close()"
   ]
  }
 ],
 "metadata": {
  "kernelspec": {
   "display_name": "Python 3",
   "language": "python",
   "name": "python3"
  },
  "language_info": {
   "codemirror_mode": {
    "name": "ipython",
    "version": 3
   },
   "file_extension": ".py",
   "mimetype": "text/x-python",
   "name": "python",
   "nbconvert_exporter": "python",
   "pygments_lexer": "ipython3",
   "version": "3.7.4"
  }
 },
 "nbformat": 4,
 "nbformat_minor": 2
}
