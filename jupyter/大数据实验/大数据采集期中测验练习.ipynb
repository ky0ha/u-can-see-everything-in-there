{
 "cells": [
  {
   "cell_type": "markdown",
   "metadata": {},
   "source": [
    "1.问题:编写一个可以计算给定数的阶乘的程序。结果应该以逗号分隔的顺序打印在一行上。例如：输入8，则输出8的阶乘40320"
   ]
  },
  {
   "cell_type": "code",
   "execution_count": 2,
   "metadata": {},
   "outputs": [
    {
     "data": {
      "text/plain": [
       "40320"
      ]
     },
     "execution_count": 2,
     "metadata": {},
     "output_type": "execute_result"
    }
   ],
   "source": [
    "def factorial(n):\n",
    "    result = 1\n",
    "    for i in range(n):\n",
    "        result *= (i+1)\n",
    "    return result\n",
    "factorial(int(input()))"
   ]
  },
  {
   "cell_type": "markdown",
   "metadata": {},
   "source": [
    "2.问题:编写一个程序，它将找到1000至2200(包括在内)所有的可被5整除，但不是7的倍数的数字。得到的数字应按逗号分隔的顺序打印在一行上。"
   ]
  },
  {
   "cell_type": "code",
   "execution_count": 6,
   "metadata": {},
   "outputs": [
    {
     "name": "stdout",
     "output_type": "stream",
     "text": [
      "1000,1005,1010,1020,1025,1030,1035,1040,1045,1055,1060,1065,1070,1075,1080,1090,1095,1100,1105,1110,1115,1125,1130,1135,1140,1145,1150,1160,1165,1170,1175,1180,1185,1195,1200,1205,1210,1215,1220,1230,1235,1240,1245,1250,1255,1265,1270,1275,1280,1285,1290,1300,1305,1310,1315,1320,1325,1335,1340,1345,1350,1355,1360,1370,1375,1380,1385,1390,1395,1405,1410,1415,1420,1425,1430,1440,1445,1450,1455,1460,1465,1475,1480,1485,1490,1495,1500,1510,1515,1520,1525,1530,1535,1545,1550,1555,1560,1565,1570,1580,1585,1590,1595,1600,1605,1615,1620,1625,1630,1635,1640,1650,1655,1660,1665,1670,1675,1685,1690,1695,1700,1705,1710,1720,1725,1730,1735,1740,1745,1755,1760,1765,1770,1775,1780,1790,1795,1800,1805,1810,1815,1825,1830,1835,1840,1845,1850,1860,1865,1870,1875,1880,1885,1895,1900,1905,1910,1915,1920,1930,1935,1940,1945,1950,1955,1965,1970,1975,1980,1985,1990,2000,2005,2010,2015,2020,2025,2035,2040,2045,2050,2055,2060,2070,2075,2080,2085,2090,2095,2105,2110,2115,2120,2125,2130,2140,2145,2150,2155,2160,2165,2175,2180,2185,2190,2195,2200"
     ]
    }
   ],
   "source": [
    "def find5(**kwargs):\n",
    "    start, end = 1000, 2200\n",
    "    for i in range(start, end+1, 5):\n",
    "        if i%7:\n",
    "            yield i\n",
    "for i in find5():\n",
    "    if i==2200:\n",
    "        print(i, end='')\n",
    "    else:\n",
    "        print(i, end=',')"
   ]
  },
  {
   "cell_type": "markdown",
   "metadata": {},
   "source": [
    "3.问题：有四个数字：1、2、3、4、5，能组成多少个互不相同的三位数？各是多少？"
   ]
  },
  {
   "cell_type": "code",
   "execution_count": 9,
   "metadata": {},
   "outputs": [
    {
     "name": "stdout",
     "output_type": "stream",
     "text": [
      "123\t124\t125\t132\t134\t135\t142\t143\t145\t152\t153\t154\t213\t214\t215\t231\t234\t235\t241\t243\t245\t251\t253\t254\t312\t314\t315\t321\t324\t325\t341\t342\t345\t351\t352\t354\t412\t413\t415\t421\t423\t425\t431\t432\t435\t451\t452\t453\t512\t513\t514\t521\t523\t524\t531\t532\t534\t541\t542\t543\t\n",
      "总共有60个三位数。\n"
     ]
    }
   ],
   "source": [
    "def compose():\n",
    "    count = 0\n",
    "    for a in range(1, 6):\n",
    "        for b in range(1, 6):\n",
    "            if a!=b:\n",
    "                for c in range(1, 6):\n",
    "                    if a!=c and b!=c:\n",
    "                        count += 1\n",
    "                        print('{}{}{}'.format(a, b, c), end='\\t')\n",
    "                    else:\n",
    "                        continue\n",
    "            else:\n",
    "                continue\n",
    "    else:\n",
    "        print('')\n",
    "        print('总共有%d个三位数。' % count)\n",
    "compose()"
   ]
  },
  {
   "cell_type": "markdown",
   "metadata": {},
   "source": [
    "4.问题：一个整数，它加上100后是一个完全平方数，再加上168又是一个完全平方数，请问该数是多少？"
   ]
  },
  {
   "cell_type": "code",
   "execution_count": 17,
   "metadata": {},
   "outputs": [
    {
     "name": "stdout",
     "output_type": "stream",
     "text": [
      "这个数是：156\n"
     ]
    }
   ],
   "source": [
    "import math\n",
    "def guess_number():\n",
    "    ls = [i for i in range(1, 21)]\n",
    "    ls = list(map(lambda x:math.pow(x, 2), ls))\n",
    "    left, right = 0, 0\n",
    "    for i in range(20):\n",
    "        for j in range(i, 20):\n",
    "            if ls[j]-ls[i]==68:\n",
    "                print('这个数是：{}'.format(int(ls[i]-100)))\n",
    "                break\n",
    "guess_number()"
   ]
  },
  {
   "cell_type": "markdown",
   "metadata": {},
   "source": [
    "5.问题：输入某年某月某日，判断这一天是这一年的第几天？例如：1998年3月5日，应该先把前两个月的天数加起来，然后再加上5天即本年的第几天"
   ]
  },
  {
   "cell_type": "code",
   "execution_count": 22,
   "metadata": {},
   "outputs": [
    {
     "name": "stdout",
     "output_type": "stream",
     "text": [
      "1998年3月5日\n"
     ]
    },
    {
     "data": {
      "text/plain": [
       "95"
      ]
     },
     "execution_count": 22,
     "metadata": {},
     "output_type": "execute_result"
    }
   ],
   "source": [
    "def is_leap_year(year):\n",
    "    return (year % 4 == 0 and year % 100 != 0) or year % 400 == 0\n",
    "\n",
    "def count_day(date):\n",
    "    ls = date.split('年')\n",
    "    temp = ls.pop(1)[:-1].split('月')\n",
    "    y, m, d = map(int, ls + temp)\n",
    "    day_list = [31, 28, 31, 30, 31, 30, 31, 31, 30, 31, 30, 31]\n",
    "    if is_leap_year(y):\n",
    "        day_list[1] = 29\n",
    "    return sum(day_list[:m]) + d\n",
    "\n",
    "count_day(input())"
   ]
  },
  {
   "cell_type": "markdown",
   "metadata": {},
   "source": [
    "6.问题：将一个正整数分解质因数。例如：输入90,打印出90=2\\*3\\*3\\*5。"
   ]
  },
  {
   "cell_type": "code",
   "execution_count": 52,
   "metadata": {},
   "outputs": [
    {
     "name": "stdout",
     "output_type": "stream",
     "text": [
      "待分解质因数的整数：90\n",
      "90=2*3*3*5\n"
     ]
    }
   ],
   "source": [
    "import math\n",
    "def prime(num, prime_list=[]):\n",
    "    for i in range(2, math.ceil(math.sqrt(num))+1):\n",
    "        if num%i==0:\n",
    "            prime_list.append(i)\n",
    "            prime(num/i, prime_list)\n",
    "            return prime_list\n",
    "        if i>=math.ceil(math.sqrt(num))-1:\n",
    "            prime_list.append(int(num))\n",
    "            break\n",
    "n = int(input('待分解质因数的整数：'))\n",
    "result = prime(n)\n",
    "print(n, end='=')\n",
    "length = len(result)\n",
    "for i in range(length):\n",
    "    if length-1==i:\n",
    "        print(result[i])\n",
    "    else:\n",
    "        print(result[i], end='*')"
   ]
  },
  {
   "cell_type": "markdown",
   "metadata": {},
   "source": [
    "7.问题：输入一行字符，分别统计出其中英文字母、空格、数字和其它字符的个数。例如：输入Hello world! 123 输出应该是：字母10 数字3 符号1."
   ]
  },
  {
   "cell_type": "code",
   "execution_count": 3,
   "metadata": {},
   "outputs": [
    {
     "name": "stdout",
     "output_type": "stream",
     "text": [
      "Hello world! 123\n",
      "字母10 空格2 数字3 符号1 "
     ]
    }
   ],
   "source": [
    "string = input()\n",
    "count_alpha, count_num, count_char, count_space = 0, 0, 0, 0\n",
    "for i in string:\n",
    "    if i.isalpha():\n",
    "        count_alpha+=1\n",
    "    elif i.isdigit():\n",
    "        count_num+=1\n",
    "    elif i.isspace():\n",
    "        count_space+=1\n",
    "    else:\n",
    "        count_char+=1\n",
    "if count_alpha:\n",
    "    print(\"字母{}\".format(count_alpha), end=' ')\n",
    "if count_space:\n",
    "    print(\"空格{}\".format(count_space), end=' ')\n",
    "if count_num:\n",
    "    print(\"数字{}\".format(count_num), end=' ')\n",
    "if count_char:\n",
    "    print(\"符号{}\".format(count_char), end=' ')"
   ]
  },
  {
   "cell_type": "markdown",
   "metadata": {},
   "source": [
    "8.问题：给一个不多于5位的正整数，要求：一、求它是几位数，二、逆序打印出各位数字."
   ]
  },
  {
   "cell_type": "code",
   "execution_count": 22,
   "metadata": {},
   "outputs": [
    {
     "data": {
      "text/plain": [
       "(5, '54321')"
      ]
     },
     "execution_count": 22,
     "metadata": {},
     "output_type": "execute_result"
    }
   ],
   "source": [
    "def count_and_reverse(num):\n",
    "    return len(list(reversed([i for i in str(num)]))), ''.join(list(reversed([i for i in str(num)])))\n",
    "count_and_reverse(12345)"
   ]
  },
  {
   "cell_type": "markdown",
   "metadata": {},
   "source": [
    "9.问题：利用递归函数调用方式，将所输入的5个字符，以相反顺序打印出来。"
   ]
  },
  {
   "cell_type": "code",
   "execution_count": 23,
   "metadata": {},
   "outputs": [
    {
     "name": "stdout",
     "output_type": "stream",
     "text": [
      "hello\n",
      "olleh"
     ]
    }
   ],
   "source": [
    "def reverse_by_recursion(string):\n",
    "    if len(string)==1:\n",
    "        print(string, end='')\n",
    "    else:\n",
    "        reverse_by_recursion(string[1:])\n",
    "        print(string[0], end='')\n",
    "reverse_by_recursion(input())"
   ]
  },
  {
   "cell_type": "markdown",
   "metadata": {},
   "source": [
    "10.问题：编写一个函数，输入n为偶数时，调用函数求1/2+1/4+...+1/n,当输入n为奇数时，调用函数1/1+1/3+...+1/n"
   ]
  },
  {
   "cell_type": "code",
   "execution_count": 1,
   "metadata": {},
   "outputs": [
    {
     "name": "stdout",
     "output_type": "stream",
     "text": [
      "0.9166666666666666\n"
     ]
    }
   ],
   "source": [
    "def sum_(n):\n",
    "    def single_(n):\n",
    "        cursor = 1\n",
    "        while cursor<=n:\n",
    "            yield 1/cursor\n",
    "            cursor+=2\n",
    "    def double_(n):\n",
    "        cursor = 2\n",
    "        while cursor<=n:\n",
    "            yield 1/cursor\n",
    "            cursor+=2\n",
    "    if n%2:\n",
    "        return sum(single_(n))\n",
    "    else:\n",
    "        return sum(double_(n))\n",
    "print(sum_(6))"
   ]
  },
  {
   "cell_type": "markdown",
   "metadata": {},
   "source": [
    "11.问题：计算字符串中子串出现的次数。例如输入：字符串：abcbab，字串：ab，输出2."
   ]
  },
  {
   "cell_type": "code",
   "execution_count": 3,
   "metadata": {},
   "outputs": [
    {
     "data": {
      "text/plain": [
       "2"
      ]
     },
     "execution_count": 3,
     "metadata": {},
     "output_type": "execute_result"
    }
   ],
   "source": [
    "def count_sub(string, sub_string):\n",
    "    return string.count(sub_string)\n",
    "count_sub('abcabc', 'ab')"
   ]
  },
  {
   "cell_type": "markdown",
   "metadata": {},
   "source": [
    "12.问题：输入一个奇数，然后判断最少几个 9 除于该数的结果为整数。例如：输入13 ，则输出999999； 999999 / 13 = 76923"
   ]
  },
  {
   "cell_type": "code",
   "execution_count": 8,
   "metadata": {},
   "outputs": [
    {
     "name": "stdout",
     "output_type": "stream",
     "text": [
      "13\n",
      "999999 / 13 = 76923\n"
     ]
    }
   ],
   "source": [
    "def how_many(num):\n",
    "    if num%2:\n",
    "        nine = 9\n",
    "        while True:\n",
    "            if nine%num:\n",
    "                nine = nine*10 + 9\n",
    "            else:\n",
    "                return nine\n",
    "    else:\n",
    "        print(\"输入值要求必须为奇数\")\n",
    "num = int(input())\n",
    "result = how_many(num)\n",
    "print(\"{} / {} = {:.0f}\".format(result, num, result/num))"
   ]
  },
  {
   "cell_type": "markdown",
   "metadata": {},
   "source": [
    "13.问题：从键盘输入一些字符，逐个把它们写到磁盘文件上，直到输入一个 # 为止："
   ]
  },
  {
   "cell_type": "code",
   "execution_count": 5,
   "metadata": {},
   "outputs": [
    {
     "name": "stdout",
     "output_type": "stream",
     "text": [
      "请输入字符，文件将保存于桌面的 file.txt 内, 输入 # 结束输入\n",
      "helloworld\n",
      "helloagain\n",
      "#\n"
     ]
    }
   ],
   "source": [
    "import winreg\n",
    "def get_desktop():\n",
    "    key = winreg.OpenKey(winreg.HKEY_CURRENT_USER, 'Software\\\\Microsoft\\\\Windows\\\\CurrentVersion\\\\Explorer\\\\Shell Folders')\n",
    "    return winreg.QueryValueEx(key, 'Desktop')[0]\n",
    "desktop_path = get_desktop()\n",
    "print(\"请输入字符，文件将保存于桌面的 file.txt 内, 输入 # 结束输入\")\n",
    "with open(desktop_path+'\\\\file.txt', 'a', encoding='utf-8') as f:\n",
    "    s = input()\n",
    "    while s!='#':\n",
    "        f.write(s+'\\n')\n",
    "        s = input()"
   ]
  },
  {
   "cell_type": "markdown",
   "metadata": {},
   "source": [
    "14.问题：编写一个程序，接受一行序列作为输入，并在将句子中的所有字符大写后打印出来，例如：输入Hello world，输出HELLO WORLD."
   ]
  },
  {
   "cell_type": "code",
   "execution_count": 7,
   "metadata": {},
   "outputs": [
    {
     "name": "stdout",
     "output_type": "stream",
     "text": [
      "helloworld\n",
      "HELLOWORLD\n"
     ]
    }
   ],
   "source": [
    "s = input()\n",
    "print(s.upper())"
   ]
  },
  {
   "cell_type": "markdown",
   "metadata": {},
   "source": [
    "15.问题：对10个数进行排序。选择排序和冒泡排序两种方法。"
   ]
  },
  {
   "cell_type": "code",
   "execution_count": 19,
   "metadata": {},
   "outputs": [
    {
     "name": "stdout",
     "output_type": "stream",
     "text": [
      "排序前： [25, 86, 78, 73, 17, 83, 21, 36, 31, 13]\n",
      "排序后： [13, 17, 21, 25, 31, 36, 73, 78, 83, 86]\n",
      "排序结果正确\n"
     ]
    }
   ],
   "source": [
    "def select_sort(ls):\n",
    "    left, right = 0, 9\n",
    "    while left<right:\n",
    "        min_index = left\n",
    "        max_index = right\n",
    "        for i in range(left, right+1):\n",
    "            if ls[i]<ls[min_index]:\n",
    "                min_index = i\n",
    "            if ls[i]>ls[max_index]:\n",
    "                max_index = i\n",
    "        \n",
    "        if ls[min_index]<ls[left]:\n",
    "            ls[min_index], ls[left] = ls[left], ls[min_index]\n",
    "        if max_index==left:\n",
    "            max_index = min_index\n",
    "        if ls[max_index]>ls[right]:\n",
    "            ls[max_index], ls[right] = ls[right], ls[max_index]\n",
    "        \n",
    "        left+=1\n",
    "        right-=1\n",
    "    else:\n",
    "        return ls\n",
    "    print(\"发生了预料之外的错误\")\n",
    "import random\n",
    "ls = []\n",
    "for i in range(10):\n",
    "    ls.append(random.randint(0, 100))\n",
    "print('排序前：', ls)\n",
    "print('排序后：', select_sort(ls))\n",
    "if sorted(ls)==select_sort(ls):\n",
    "    print('排序结果正确')\n",
    "else:\n",
    "    print('排序出错')"
   ]
  },
  {
   "cell_type": "code",
   "execution_count": 21,
   "metadata": {},
   "outputs": [
    {
     "name": "stdout",
     "output_type": "stream",
     "text": [
      "排序前： [100, 38, 58, 63, 79, 81, 6, 48, 65, 68]\n",
      "排序后： [6, 38, 48, 58, 63, 65, 68, 79, 81, 100]\n",
      "排序结果正确\n"
     ]
    }
   ],
   "source": [
    "def bubble_sort(ls):\n",
    "    left, right = 0, 9\n",
    "    while left<right:\n",
    "        if ls[left]>ls[left+1]:\n",
    "            ls[left], ls[left+1] = ls[left+1], ls[left]\n",
    "        if ls[right]<ls[right-1]:\n",
    "            ls[right], ls[right-1] = ls[right-1], ls[right]\n",
    "        left+=1\n",
    "        right-=1\n",
    "    return ls\n",
    "import random\n",
    "ls = []\n",
    "for i in range(10):\n",
    "    ls.append(random.randint(0, 100))\n",
    "print('排序前：', ls)\n",
    "print('排序后：', select_sort(ls))\n",
    "if sorted(ls)==select_sort(ls):\n",
    "    print('排序结果正确')\n",
    "else:\n",
    "    print('排序出错')"
   ]
  },
  {
   "cell_type": "code",
   "execution_count": 3,
   "metadata": {},
   "outputs": [
    {
     "ename": "NameError",
     "evalue": "name 'reduce' is not defined",
     "output_type": "error",
     "traceback": [
      "\u001b[1;31m---------------------------------------------------------------------------\u001b[0m",
      "\u001b[1;31mNameError\u001b[0m                                 Traceback (most recent call last)",
      "\u001b[1;32m<ipython-input-3-68bd7904f237>\u001b[0m in \u001b[0;36m<module>\u001b[1;34m()\u001b[0m\n\u001b[0;32m      1\u001b[0m \u001b[1;32mimport\u001b[0m \u001b[0mfunctools\u001b[0m\u001b[1;33m\u001b[0m\u001b[0m\n\u001b[1;32m----> 2\u001b[1;33m \u001b[0mreduce\u001b[0m\u001b[1;33m(\u001b[0m\u001b[1;36m8\u001b[0m\u001b[1;33m)\u001b[0m\u001b[1;33m\u001b[0m\u001b[0m\n\u001b[0m",
      "\u001b[1;31mNameError\u001b[0m: name 'reduce' is not defined"
     ]
    }
   ],
   "source": [
    "import functools\n",
    "reduce(8)"
   ]
  },
  {
   "cell_type": "code",
   "execution_count": null,
   "metadata": {},
   "outputs": [],
   "source": []
  }
 ],
 "metadata": {
  "kernelspec": {
   "display_name": "Python 3",
   "language": "python",
   "name": "python3"
  },
  "language_info": {
   "codemirror_mode": {
    "name": "ipython",
    "version": 3
   },
   "file_extension": ".py",
   "mimetype": "text/x-python",
   "name": "python",
   "nbconvert_exporter": "python",
   "pygments_lexer": "ipython3",
   "version": "3.7.0"
  }
 },
 "nbformat": 4,
 "nbformat_minor": 2
}
