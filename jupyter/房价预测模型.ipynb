{
 "cells": [
  {
   "cell_type": "code",
   "execution_count": 21,
   "metadata": {},
   "outputs": [
    {
     "name": "stdout",
     "output_type": "stream",
     "text": [
      "\n",
      "函数中X输入值为列表，内容为\n",
      "[总卧室数/总房间数, 住户数/人口数, 收入中位数, 地理位置]，\n",
      "其中地理位置为输入对应数字\n",
      "{\"INLAND\":12, \"<1H OCEAN\":24, \"NEAR OCEAN\":25, \"NEAR BAY\":26, \"ISLAND\":38}\n",
      "0.221185 0.38212 2.3886 12\n",
      "\n",
      "预测输入地段房价中值是:[[102771.43516564]],实际房价中值为89400.0,预测误差为[[13371.43516564]],模型相关指数R²为[[0.65107033]]\n"
     ]
    }
   ],
   "source": [
    "def average(x,n):\n",
    "    total=0\n",
    "    for i in range(n):\n",
    "        total+=x[i]\n",
    "    return total/n\n",
    "\n",
    "def getTheta(X_b,y):\n",
    "    theta_best = np.linalg.inv(X_b.T.dot(X_b)).dot(X_b.T).dot(y)\n",
    "    return theta_best\n",
    "\n",
    "def estimate(theta_best,X):\n",
    "    '''\n",
    "    函数中X输入值为列表，内容为\n",
    "    [总卧室数/总房间数, 住户数/人口数, 收入中位数, 地理位置]，\n",
    "    其中地理位置为输入对应数字\n",
    "    {\"INLAND\":12, \"<1H OCEAN\":24, \"NEAR OCEAN\":25, \"NEAR BAY\":26, \"ISLAND\":38}\n",
    "    '''\n",
    "    X=np.c_[np.ones((1,1)),X]\n",
    "    X=X.T\n",
    "    theta_best=np.array([theta_best])\n",
    "    return theta_best.dot(X)\n",
    "\n",
    "def getR(X_t,y,n,aver):\n",
    "    up=0\n",
    "    down=0\n",
    "    for i in range(n):\n",
    "        up+=(y[i]-estimate(theta_best,np.array([X_t[i]])))**2\n",
    "        down+=(y[i]-y_bar)**2\n",
    "    return 1-up/down\n",
    "\n",
    "#---------------------------------------------------------------------------------------------------------\n",
    "\n",
    "import pandas as pd\n",
    "import numpy as np\n",
    "\n",
    "fpath = \"C:/Users/25315/Desktop/housing.csv\"\n",
    "f = pd.read_csv(fpath)\n",
    "\n",
    "f.drop([\"longitude\",\"latitude\"], axis=1, inplace=True)\n",
    "f.dropna(axis=0,how='any',thresh=None,subset=None,inplace=True)\n",
    "f=f.reset_index(drop=True)\n",
    "dic={\"INLAND\":12, \"<1H OCEAN\":24, \"NEAR OCEAN\":25, \"NEAR BAY\":26, \"ISLAND\":38}\n",
    "f[\"ocean_proximity\"]=f[\"ocean_proximity\"].map(dic)\n",
    "\n",
    "n=16001\n",
    "FHMA=f.loc[:,\"housing_median_age\"]\n",
    "FMHV=f.loc[:,\"median_house_value\"]\n",
    "FTR=f.loc[:,\"total_rooms\"]\n",
    "FTB=f.loc[:,\"total_bedrooms\"]\n",
    "FP=f.loc[:,\"population\"]\n",
    "FH=f.loc[:,\"households\"]\n",
    "FMI=f.loc[:,\"median_income\"]\n",
    "FOP=f.loc[:,\"ocean_proximity\"]\n",
    "X1=np.array(list(FTB/FTR))\n",
    "x1=X1[:n]\n",
    "X2=np.array(list(FH/FP))\n",
    "x2=X2[:n]\n",
    "X3=np.array(list(FMI))\n",
    "x3=X3[:n]\n",
    "X4=np.array(list(FOP))\n",
    "x4=X4[:n]\n",
    "\n",
    "\n",
    "one = np.ones((n,1))\n",
    "for_R_X = np.c_[X1,X2,X3,X4]\n",
    "X_t = np.c_[x1,x2,x3,x4]\n",
    "X_b = np.c_[one,x1,x2,x3,x4]\n",
    "Y = np.array(list(FMHV))\n",
    "y = Y[:n]\n",
    "\n",
    "theta_best=getTheta(X_b,y)\n",
    "y_bar = average(y,n)\n",
    "\n",
    "X=np.array([list(map(float,input('''\n",
    "函数中X输入值为列表，内容为\n",
    "[总卧室数/总房间数, 住户数/人口数, 收入中位数, 地理位置]，\n",
    "其中地理位置为输入对应数字\n",
    "{\"INLAND\":12, \"<1H OCEAN\":24, \"NEAR OCEAN\":25, \"NEAR BAY\":26, \"ISLAND\":38}\n",
    "''').split()))])\n",
    "\n",
    "ev = estimate(theta_best,X)\n",
    "tv = f.loc[20432,\"median_house_value\"]\n",
    "R = getR(for_R_X,Y,20432,y_bar)\n",
    "print(\"\\n预测输入地段房价中值是:{},实际房价中值为{},预测误差为{},模型相关指数R²为{}\".format(ev,tv,ev-tv,R))"
   ]
  },
  {
   "cell_type": "code",
   "execution_count": 19,
   "metadata": {},
   "outputs": [
    {
     "ename": "ParserError",
     "evalue": "Error tokenizing data. C error: Expected 1 fields in line 3, saw 3\n",
     "output_type": "error",
     "traceback": [
      "\u001b[1;31m---------------------------------------------------------------------------\u001b[0m",
      "\u001b[1;31mParserError\u001b[0m                               Traceback (most recent call last)",
      "\u001b[1;32m<ipython-input-19-5de15efb0d28>\u001b[0m in \u001b[0;36m<module>\u001b[1;34m\u001b[0m\n\u001b[0;32m      4\u001b[0m \u001b[1;33m\u001b[0m\u001b[0m\n\u001b[0;32m      5\u001b[0m \u001b[0mfpath\u001b[0m \u001b[1;33m=\u001b[0m \u001b[1;34m\"C:/Users/25315/Desktop/housing.csv\"\u001b[0m\u001b[1;33m\u001b[0m\u001b[1;33m\u001b[0m\u001b[0m\n\u001b[1;32m----> 6\u001b[1;33m \u001b[0mf\u001b[0m \u001b[1;33m=\u001b[0m \u001b[0mpd\u001b[0m\u001b[1;33m.\u001b[0m\u001b[0mread_csv\u001b[0m\u001b[1;33m(\u001b[0m\u001b[0mfpath\u001b[0m\u001b[1;33m)\u001b[0m\u001b[1;33m\u001b[0m\u001b[1;33m\u001b[0m\u001b[0m\n\u001b[0m\u001b[0;32m      7\u001b[0m \u001b[1;33m\u001b[0m\u001b[0m\n\u001b[0;32m      8\u001b[0m \u001b[0mf\u001b[0m\u001b[1;33m.\u001b[0m\u001b[0mdrop\u001b[0m\u001b[1;33m(\u001b[0m\u001b[1;33m[\u001b[0m\u001b[1;34m\"longitude\"\u001b[0m\u001b[1;33m,\u001b[0m\u001b[1;34m\"latitude\"\u001b[0m\u001b[1;33m]\u001b[0m\u001b[1;33m,\u001b[0m \u001b[0maxis\u001b[0m\u001b[1;33m=\u001b[0m\u001b[1;36m1\u001b[0m\u001b[1;33m,\u001b[0m \u001b[0minplace\u001b[0m\u001b[1;33m=\u001b[0m\u001b[1;32mTrue\u001b[0m\u001b[1;33m)\u001b[0m\u001b[1;33m\u001b[0m\u001b[1;33m\u001b[0m\u001b[0m\n",
      "\u001b[1;32mC:\\ProgramData\\Anaconda3\\lib\\site-packages\\pandas\\io\\parsers.py\u001b[0m in \u001b[0;36mparser_f\u001b[1;34m(filepath_or_buffer, sep, delimiter, header, names, index_col, usecols, squeeze, prefix, mangle_dupe_cols, dtype, engine, converters, true_values, false_values, skipinitialspace, skiprows, skipfooter, nrows, na_values, keep_default_na, na_filter, verbose, skip_blank_lines, parse_dates, infer_datetime_format, keep_date_col, date_parser, dayfirst, cache_dates, iterator, chunksize, compression, thousands, decimal, lineterminator, quotechar, quoting, doublequote, escapechar, comment, encoding, dialect, error_bad_lines, warn_bad_lines, delim_whitespace, low_memory, memory_map, float_precision)\u001b[0m\n\u001b[0;32m    683\u001b[0m         )\n\u001b[0;32m    684\u001b[0m \u001b[1;33m\u001b[0m\u001b[0m\n\u001b[1;32m--> 685\u001b[1;33m         \u001b[1;32mreturn\u001b[0m \u001b[0m_read\u001b[0m\u001b[1;33m(\u001b[0m\u001b[0mfilepath_or_buffer\u001b[0m\u001b[1;33m,\u001b[0m \u001b[0mkwds\u001b[0m\u001b[1;33m)\u001b[0m\u001b[1;33m\u001b[0m\u001b[1;33m\u001b[0m\u001b[0m\n\u001b[0m\u001b[0;32m    686\u001b[0m \u001b[1;33m\u001b[0m\u001b[0m\n\u001b[0;32m    687\u001b[0m     \u001b[0mparser_f\u001b[0m\u001b[1;33m.\u001b[0m\u001b[0m__name__\u001b[0m \u001b[1;33m=\u001b[0m \u001b[0mname\u001b[0m\u001b[1;33m\u001b[0m\u001b[1;33m\u001b[0m\u001b[0m\n",
      "\u001b[1;32mC:\\ProgramData\\Anaconda3\\lib\\site-packages\\pandas\\io\\parsers.py\u001b[0m in \u001b[0;36m_read\u001b[1;34m(filepath_or_buffer, kwds)\u001b[0m\n\u001b[0;32m    461\u001b[0m \u001b[1;33m\u001b[0m\u001b[0m\n\u001b[0;32m    462\u001b[0m     \u001b[1;32mtry\u001b[0m\u001b[1;33m:\u001b[0m\u001b[1;33m\u001b[0m\u001b[1;33m\u001b[0m\u001b[0m\n\u001b[1;32m--> 463\u001b[1;33m         \u001b[0mdata\u001b[0m \u001b[1;33m=\u001b[0m \u001b[0mparser\u001b[0m\u001b[1;33m.\u001b[0m\u001b[0mread\u001b[0m\u001b[1;33m(\u001b[0m\u001b[0mnrows\u001b[0m\u001b[1;33m)\u001b[0m\u001b[1;33m\u001b[0m\u001b[1;33m\u001b[0m\u001b[0m\n\u001b[0m\u001b[0;32m    464\u001b[0m     \u001b[1;32mfinally\u001b[0m\u001b[1;33m:\u001b[0m\u001b[1;33m\u001b[0m\u001b[1;33m\u001b[0m\u001b[0m\n\u001b[0;32m    465\u001b[0m         \u001b[0mparser\u001b[0m\u001b[1;33m.\u001b[0m\u001b[0mclose\u001b[0m\u001b[1;33m(\u001b[0m\u001b[1;33m)\u001b[0m\u001b[1;33m\u001b[0m\u001b[1;33m\u001b[0m\u001b[0m\n",
      "\u001b[1;32mC:\\ProgramData\\Anaconda3\\lib\\site-packages\\pandas\\io\\parsers.py\u001b[0m in \u001b[0;36mread\u001b[1;34m(self, nrows)\u001b[0m\n\u001b[0;32m   1152\u001b[0m     \u001b[1;32mdef\u001b[0m \u001b[0mread\u001b[0m\u001b[1;33m(\u001b[0m\u001b[0mself\u001b[0m\u001b[1;33m,\u001b[0m \u001b[0mnrows\u001b[0m\u001b[1;33m=\u001b[0m\u001b[1;32mNone\u001b[0m\u001b[1;33m)\u001b[0m\u001b[1;33m:\u001b[0m\u001b[1;33m\u001b[0m\u001b[1;33m\u001b[0m\u001b[0m\n\u001b[0;32m   1153\u001b[0m         \u001b[0mnrows\u001b[0m \u001b[1;33m=\u001b[0m \u001b[0m_validate_integer\u001b[0m\u001b[1;33m(\u001b[0m\u001b[1;34m\"nrows\"\u001b[0m\u001b[1;33m,\u001b[0m \u001b[0mnrows\u001b[0m\u001b[1;33m)\u001b[0m\u001b[1;33m\u001b[0m\u001b[1;33m\u001b[0m\u001b[0m\n\u001b[1;32m-> 1154\u001b[1;33m         \u001b[0mret\u001b[0m \u001b[1;33m=\u001b[0m \u001b[0mself\u001b[0m\u001b[1;33m.\u001b[0m\u001b[0m_engine\u001b[0m\u001b[1;33m.\u001b[0m\u001b[0mread\u001b[0m\u001b[1;33m(\u001b[0m\u001b[0mnrows\u001b[0m\u001b[1;33m)\u001b[0m\u001b[1;33m\u001b[0m\u001b[1;33m\u001b[0m\u001b[0m\n\u001b[0m\u001b[0;32m   1155\u001b[0m \u001b[1;33m\u001b[0m\u001b[0m\n\u001b[0;32m   1156\u001b[0m         \u001b[1;31m# May alter columns / col_dict\u001b[0m\u001b[1;33m\u001b[0m\u001b[1;33m\u001b[0m\u001b[1;33m\u001b[0m\u001b[0m\n",
      "\u001b[1;32mC:\\ProgramData\\Anaconda3\\lib\\site-packages\\pandas\\io\\parsers.py\u001b[0m in \u001b[0;36mread\u001b[1;34m(self, nrows)\u001b[0m\n\u001b[0;32m   2057\u001b[0m     \u001b[1;32mdef\u001b[0m \u001b[0mread\u001b[0m\u001b[1;33m(\u001b[0m\u001b[0mself\u001b[0m\u001b[1;33m,\u001b[0m \u001b[0mnrows\u001b[0m\u001b[1;33m=\u001b[0m\u001b[1;32mNone\u001b[0m\u001b[1;33m)\u001b[0m\u001b[1;33m:\u001b[0m\u001b[1;33m\u001b[0m\u001b[1;33m\u001b[0m\u001b[0m\n\u001b[0;32m   2058\u001b[0m         \u001b[1;32mtry\u001b[0m\u001b[1;33m:\u001b[0m\u001b[1;33m\u001b[0m\u001b[1;33m\u001b[0m\u001b[0m\n\u001b[1;32m-> 2059\u001b[1;33m             \u001b[0mdata\u001b[0m \u001b[1;33m=\u001b[0m \u001b[0mself\u001b[0m\u001b[1;33m.\u001b[0m\u001b[0m_reader\u001b[0m\u001b[1;33m.\u001b[0m\u001b[0mread\u001b[0m\u001b[1;33m(\u001b[0m\u001b[0mnrows\u001b[0m\u001b[1;33m)\u001b[0m\u001b[1;33m\u001b[0m\u001b[1;33m\u001b[0m\u001b[0m\n\u001b[0m\u001b[0;32m   2060\u001b[0m         \u001b[1;32mexcept\u001b[0m \u001b[0mStopIteration\u001b[0m\u001b[1;33m:\u001b[0m\u001b[1;33m\u001b[0m\u001b[1;33m\u001b[0m\u001b[0m\n\u001b[0;32m   2061\u001b[0m             \u001b[1;32mif\u001b[0m \u001b[0mself\u001b[0m\u001b[1;33m.\u001b[0m\u001b[0m_first_chunk\u001b[0m\u001b[1;33m:\u001b[0m\u001b[1;33m\u001b[0m\u001b[1;33m\u001b[0m\u001b[0m\n",
      "\u001b[1;32mpandas\\_libs\\parsers.pyx\u001b[0m in \u001b[0;36mpandas._libs.parsers.TextReader.read\u001b[1;34m()\u001b[0m\n",
      "\u001b[1;32mpandas\\_libs\\parsers.pyx\u001b[0m in \u001b[0;36mpandas._libs.parsers.TextReader._read_low_memory\u001b[1;34m()\u001b[0m\n",
      "\u001b[1;32mpandas\\_libs\\parsers.pyx\u001b[0m in \u001b[0;36mpandas._libs.parsers.TextReader._read_rows\u001b[1;34m()\u001b[0m\n",
      "\u001b[1;32mpandas\\_libs\\parsers.pyx\u001b[0m in \u001b[0;36mpandas._libs.parsers.TextReader._tokenize_rows\u001b[1;34m()\u001b[0m\n",
      "\u001b[1;32mpandas\\_libs\\parsers.pyx\u001b[0m in \u001b[0;36mpandas._libs.parsers.raise_parser_error\u001b[1;34m()\u001b[0m\n",
      "\u001b[1;31mParserError\u001b[0m: Error tokenizing data. C error: Expected 1 fields in line 3, saw 3\n"
     ]
    }
   ],
   "source": [
    "import pandas as pd\n",
    "import numpy as np\n",
    "from matplotlib import pyplot as plt\n",
    "\n",
    "fpath = \"C:/Users/25315/Desktop/housing.csv\"\n",
    "f = pd.read_csv(fpath)\n",
    "\n",
    "f.drop([\"longitude\",\"latitude\"], axis=1, inplace=True)\n",
    "f.dropna(axis=0,how='any',thresh=None,subset=None,inplace=True)\n",
    "f=f.reset_index(drop=True)\n",
    "dic={\"INLAND\":12, \"<1H OCEAN\":24, \"NEAR OCEAN\":25, \"NEAR BAY\":26, \"ISLAND\":38}\n",
    "f[\"ocean_proximity\"]=f[\"ocean_proximity\"].map(dic)\n",
    "\n",
    "n=20432\n",
    "FHMA=f.loc[:n-1,\"housing_median_age\"]\n",
    "FMHV=f.loc[:n-1,\"median_house_value\"]\n",
    "FTR=f.loc[:n-1,\"total_rooms\"]\n",
    "FTB=f.loc[:n-1,\"total_bedrooms\"]\n",
    "FP=f.loc[:n-1,\"population\"]\n",
    "FH=f.loc[:n-1,\"households\"]\n",
    "FMI=f.loc[:n-1,\"median_income\"]\n",
    "FOP=f.loc[:n-1,\"ocean_proximity\"]\n",
    "x1=np.array(list(FTB/FTR))\n",
    "x2=np.array(list(FH/FP))\n",
    "x3=np.array(list(FMI))\n",
    "x4=np.array(list(FOP))\n",
    "X=np.c_[x1,x2,x3,x4]\n",
    "tv = f.loc[:n-1,\"median_house_value\"]\n",
    "\n",
    "X_new = np.array([[0.4,0.6,2.3,12],[0.7,0.8,4.5,26]])\n",
    "X_new_b = np.c_[(np.ones((2,1))),X_new]\n",
    "y_predice = X_new_b.dot(theta_best)\n",
    "plt.plot(X_new,y_predice,'r-')\n",
    "plt.scatter(x1,tv,s=0.1)\n",
    "plt.show()\n",
    "plt.scatter(x2,tv,s=0.1)\n",
    "plt.show()\n",
    "plt.scatter(x3,tv,s=0.1)\n",
    "plt.show()\n",
    "plt.scatter(x4,tv,s=0.1)\n",
    "plt.show()"
   ]
  },
  {
   "cell_type": "code",
   "execution_count": 7,
   "metadata": {},
   "outputs": [
    {
     "data": {
      "text/plain": [
       "array([[ 0.4,  0.6,  2.3, 12. ],\n",
       "       [ 0.7,  0.8,  4.5, 26. ]])"
      ]
     },
     "execution_count": 7,
     "metadata": {},
     "output_type": "execute_result"
    }
   ],
   "source": [
    "X_new"
   ]
  },
  {
   "cell_type": "code",
   "execution_count": 6,
   "metadata": {},
   "outputs": [
    {
     "data": {
      "text/plain": [
       "array([208524.11775317, 511676.41098371])"
      ]
     },
     "execution_count": 6,
     "metadata": {},
     "output_type": "execute_result"
    }
   ],
   "source": [
    "y_predice"
   ]
  },
  {
   "cell_type": "code",
   "execution_count": null,
   "metadata": {},
   "outputs": [],
   "source": []
  }
 ],
 "metadata": {
  "kernelspec": {
   "display_name": "Python 3",
   "language": "python",
   "name": "python3"
  },
  "language_info": {
   "codemirror_mode": {
    "name": "ipython",
    "version": 3
   },
   "file_extension": ".py",
   "mimetype": "text/x-python",
   "name": "python",
   "nbconvert_exporter": "python",
   "pygments_lexer": "ipython3",
   "version": "3.7.0"
  }
 },
 "nbformat": 4,
 "nbformat_minor": 2
}
