{
 "cells": [
  {
   "cell_type": "code",
   "execution_count": 2,
   "metadata": {},
   "outputs": [
    {
     "name": "stderr",
     "output_type": "stream",
     "text": [
      "C:\\ProgramData\\Anaconda3\\lib\\site-packages\\ipykernel_launcher.py:5: FutureWarning: `rcond` parameter will change to the default of machine precision times ``max(M, N)`` where M and N are the input matrix dimensions.\n",
      "To use the future default and silence this warning we advise to pass `rcond=None`, to keep using the old, explicitly pass `rcond=-1`.\n",
      "  \"\"\"\n"
     ]
    }
   ],
   "source": [
    "import numpy as np\n",
    "x=np.array([1,2,4,3,2,3,4,1,5])\n",
    "y=np.array([1.4,4.2,10.4,5.8,4.8,6.7,8.5,3.1,9.2])\n",
    "X=np.vstack((np.ones(9),x)).T\n",
    "beta,SSR,rank,sv=np.linalg.lstsq(X,y)\n",
    "B=np.dot(X.T,X)"
   ]
  },
  {
   "cell_type": "code",
   "execution_count": 1,
   "metadata": {},
   "outputs": [
    {
     "name": "stdout",
     "output_type": "stream",
     "text": [
      "[[1. 0. 2.]\n",
      " [1. 2. 4.]]\n",
      "[[ 4.52105066  9.52604156]\n",
      " [10.17827684 15.76689049]]\n",
      "[[4.42079777 3.94174419]\n",
      " [2.77848664 0.32827578]\n",
      " [0.05012645 2.79214869]]\n"
     ]
    },
    {
     "data": {
      "text/plain": [
       "<Figure size 640x480 with 1 Axes>"
      ]
     },
     "metadata": {},
     "output_type": "display_data"
    }
   ],
   "source": [
    "import numpy as np\n",
    "import matplotlib.pyplot as plt\n",
    "from bz2 import __author__\n",
    " \n",
    "#设置随机种子\n",
    "seed = np.random.seed(100)\n",
    " \n",
    "#构造一个100行1列到矩阵。矩阵数值生成用rand，得到到数字是0-1到均匀分布到小数。\n",
    "X = 2 * np.random.rand(100,2)   #最终得到到是0-2均匀分布到小数组成到100行1列到矩阵。这一步构建列X1(训练集数据)\n",
    "#构建y和x的关系。 np.random.randn(100,1)是构建的符合高斯分布（正态分布）的100行一列的随机数。相当于给每个y增加列一个波动值。\n",
    "y= 4 + 3 * X + np.random.randn(100,2)\n",
    " \n",
    "#将两个矩阵组合成一个矩阵。得到的X_b是100行2列的矩阵。其中第一列全都是1.\n",
    "X_b = np.c_[np.ones((100,1)),X]\n",
    " \n",
    "#解析解求theta到最优解\n",
    "theta_best = np.linalg.inv(X_b.T.dot(X_b)).dot(X_b.T).dot(y)\n",
    "# print(theta_best)\n",
    "# 生成两个新的数据点,得到的是两个x1的值\n",
    "X_new = np.array([[0,2],[2,4]])\n",
    " \n",
    "# 填充x0的值，两个1\n",
    "X_new_b = np.c_[(np.ones((2,1))),X_new]\n",
    " \n",
    "print (X_new_b)\n",
    " \n",
    "# 用求得的theata和构建的预测点X_new_b相乘，得到yhat\n",
    "y_predice = X_new_b.dot(theta_best)\n",
    "print(y_predice)\n",
    "print(theta_best)\n",
    "# 画出预测函数的图像，r-表示为用红色的线\n",
    "plt.plot(X_new,y_predice,'r-')\n",
    "# 画出已知数据X和掺杂了误差的y，用蓝色的点表示\n",
    "plt.plot(X,y,'b.')\n",
    "# 建立坐标轴\n",
    "plt.axis([0,2,0,15,])\n",
    " \n",
    "plt.show()"
   ]
  },
  {
   "cell_type": "code",
   "execution_count": 3,
   "metadata": {},
   "outputs": [
    {
     "name": "stdout",
     "output_type": "stream",
     "text": [
      "[3.80673301] [[3.13686416]]\n",
      "[[ 3.80673301]\n",
      " [10.08046134]]\n"
     ]
    },
    {
     "data": {
      "image/png": "[encoded data removed]",
      "text/plain": [
       "<Figure size 432x288 with 1 Axes>"
      ]
     },
     "metadata": {
      "needs_background": "light"
     },
     "output_type": "display_data"
    },
    {
     "data": {
      "text/plain": [
       "array([0.01169604])"
      ]
     },
     "execution_count": 3,
     "metadata": {},
     "output_type": "execute_result"
    }
   ],
   "source": [
    "from sklearn.linear_model import  LinearRegression\n",
    "import numpy as np\n",
    "import matplotlib.pyplot as plt\n",
    "from math import sqrt\n",
    "# 解析解求线性回归\n",
    "def getrs(n, x, y, x_bar, y_bar):\n",
    "    up, down = 0, 0\n",
    "    a, b = 0, 0\n",
    "    for i in range(n):\n",
    "        up = up + (x[i]-x_bar)*(y[i]-y_bar)\n",
    "        a = a + sqrt(pow((x[i]-x_bar), 2))\n",
    "        b = b + sqrt(pow((y[i]-y_bar), 2))\n",
    "    down = a*b\n",
    "    return up/down\n",
    " \n",
    "def average(x,n):       #x为列表，n为列表个数，函数效果为求x的平均值\n",
    "    total=0\n",
    "    for i in range(n):\n",
    "        total+=x[i]\n",
    "    return total/n\n",
    " \n",
    "# 手动构建数据集和y与x的对应关系\n",
    "x = 2 * np.random.rand(100,1)\n",
    "y= 4 + 3*x + np.random.randn(100,1)\n",
    " \n",
    "line_reg = LinearRegression()\n",
    "# 训练数据集,训练完成后，参数会保存在对象line_reg中。\n",
    "line_reg.fit(x,y)\n",
    " \n",
    "# line_reg.intercept为截距，就是w0，line_reg.coef_为其他参数，coef的全拼为coefficient\n",
    "print(line_reg.intercept_,line_reg.coef_)\n",
    " \n",
    "x_new = np.array([[0],[2]])\n",
    "# line_reg.predict(x_new) 为预测结果\n",
    "print(line_reg.predict(x_new))\n",
    " \n",
    "plt.plot(x_new,line_reg.predict(x_new),'r-')\n",
    "# 画出已知数据X和掺杂了误差的y，用蓝色的点表示\n",
    "plt.plot(x,y,'b.')\n",
    "# 建立坐标轴\n",
    "plt.axis([0,2,0,15,])\n",
    " \n",
    "plt.show()\n",
    "\n",
    "getrs(len(x), x, y, average(x, len(x)), average(y, len(y)))"
   ]
  },
  {
   "cell_type": "code",
   "execution_count": 15,
   "metadata": {},
   "outputs": [],
   "source": [
    "a=np.array([[1,2,3]])\n",
    "b=np.array([[1],[2],[3]])\n",
    "nsa = a.dot(b)"
   ]
  },
  {
   "cell_type": "code",
   "execution_count": 17,
   "metadata": {},
   "outputs": [
    {
     "data": {
      "text/plain": [
       "array([[1, 2, 3]])"
      ]
     },
     "execution_count": 17,
     "metadata": {},
     "output_type": "execute_result"
    }
   ],
   "source": [
    "b.T"
   ]
  },
  {
   "cell_type": "code",
   "execution_count": 27,
   "metadata": {},
   "outputs": [
    {
     "data": {
      "text/plain": [
       "array([[1],\n",
       "       [2],\n",
       "       [3]])"
      ]
     },
     "execution_count": 27,
     "metadata": {},
     "output_type": "execute_result"
    }
   ],
   "source": [
    "l=np.array([1,2,3])\n",
    "l.resize((3,1))\n",
    "l"
   ]
  },
  {
   "cell_type": "code",
   "execution_count": null,
   "metadata": {},
   "outputs": [],
   "source": []
  }
 ],
 "metadata": {
  "kernelspec": {
   "display_name": "Python 3",
   "language": "python",
   "name": "python3"
  },
  "language_info": {
   "codemirror_mode": {
    "name": "ipython",
    "version": 3
   },
   "file_extension": ".py",
   "mimetype": "text/x-python",
   "name": "python",
   "nbconvert_exporter": "python",
   "pygments_lexer": "ipython3",
   "version": "3.7.0"
  }
 },
 "nbformat": 4,
 "nbformat_minor": 2
}
