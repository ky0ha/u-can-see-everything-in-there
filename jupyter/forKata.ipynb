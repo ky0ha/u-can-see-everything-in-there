{
 "cells": [
  {
   "cell_type": "markdown",
   "metadata": {},
   "source": [
    "# this page is for Kata"
   ]
  },
  {
   "cell_type": "code",
   "execution_count": 12,
   "metadata": {},
   "outputs": [
    {
     "name": "stdout",
     "output_type": "stream",
     "text": [
      "4\n",
      "[[1, 2, 3, 4], [12, 13, 14, 5], [11, 16, 15, 6], [10, 9, 8, 7]]\n"
     ]
    }
   ],
   "source": [
    "n = int(input())\n",
    "\n",
    "if not isinstance(n, int):\n",
    "    print([])\n",
    "d = iter(range(n ** 2))\n",
    "a = r = [[[x, y] for y in range(n)] for x in range(n)]\n",
    "while a:\n",
    "    for x, y in a[0]: r[x][y] = next(d) + 1\n",
    "    a = list(zip(*a[1:]))[::-1]\n",
    "print(r)"
   ]
  },
  {
   "cell_type": "code",
   "execution_count": 16,
   "metadata": {},
   "outputs": [
    {
     "data": {
      "text/plain": [
       "[('work_id', '27015'), ('1', '(0,1)')]"
      ]
     },
     "execution_count": 16,
     "metadata": {},
     "output_type": "execute_result"
    }
   ],
   "source": [
    "ls = list(map(int, input().split()))"
   ]
  },
  {
   "cell_type": "code",
   "execution_count": 24,
   "metadata": {},
   "outputs": [
    {
     "data": {
      "text/plain": [
       "[([1, 0], [2, 0], [3, 0]),\n",
       " ([1, 1], [2, 1], [3, 1]),\n",
       " ([1, 2], [2, 2], [3, 2]),\n",
       " ([1, 3], [2, 3], [3, 3])]"
      ]
     },
     "execution_count": 24,
     "metadata": {},
     "output_type": "execute_result"
    }
   ],
   "source": [
    "list(zip(*a[1:]))"
   ]
  },
  {
   "cell_type": "code",
   "execution_count": 23,
   "metadata": {},
   "outputs": [
    {
     "data": {
      "text/plain": [
       "[([1, 3], [2, 3], [3, 3]),\n",
       " ([1, 2], [2, 2], [3, 2]),\n",
       " ([1, 1], [2, 1], [3, 1]),\n",
       " ([1, 0], [2, 0], [3, 0])]"
      ]
     },
     "execution_count": 23,
     "metadata": {},
     "output_type": "execute_result"
    }
   ],
   "source": [
    "list(zip(*a[1:]))[::-1]"
   ]
  },
  {
   "cell_type": "code",
   "execution_count": 7,
   "metadata": {},
   "outputs": [
    {
     "data": {
      "text/plain": [
       "1"
      ]
     },
     "execution_count": 7,
     "metadata": {},
     "output_type": "execute_result"
    }
   ],
   "source": [
    "ord(\"1\")-48"
   ]
  },
  {
   "cell_type": "code",
   "execution_count": 1,
   "metadata": {},
   "outputs": [],
   "source": [
    "import xlrd\n",
    "\n",
    "data = xlrd.open_workbook('C:\\\\Users\\\\25315\\\\Desktop\\\\2021 APMCM Problem A\\\\Annex 1\\\\EdgeContoursOutput.xls')"
   ]
  },
  {
   "cell_type": "code",
   "execution_count": 2,
   "metadata": {},
   "outputs": [
    {
     "data": {
      "text/plain": [
       "True"
      ]
     },
     "execution_count": 2,
     "metadata": {},
     "output_type": "execute_result"
    }
   ],
   "source": [
    "# table = data.sheets()[0]          #通过索引顺序获取\n",
    "# table = data.sheet_by_index(sheet_indx)) #通过索引顺序获取\n",
    "table = data.sheet_by_name('Sheet1')#通过名称获取\n",
    "\n",
    "names = data.sheet_names()    #返回book中所有工作表的名字\n",
    "data.sheet_loaded('Sheet1')   # 检查某个sheet是否导入完毕"
   ]
  },
  {
   "cell_type": "code",
   "execution_count": 3,
   "metadata": {},
   "outputs": [
    {
     "data": {
      "text/plain": [
       "['Sheet1', 'Sheet2']"
      ]
     },
     "execution_count": 3,
     "metadata": {},
     "output_type": "execute_result"
    }
   ],
   "source": [
    "names"
   ]
  },
  {
   "cell_type": "code",
   "execution_count": null,
   "metadata": {},
   "outputs": [],
   "source": [
    "nrows = table.nrows  #获取该sheet中的有效行数\n",
    "table.row(rowx)  #返回由该行中所有的单元格对象组成的列表\n",
    "table.row_slice(rowx)  #返回由该列中所有的单元格对象组成的列表\n",
    "table.row_types(rowx, start_colx=0, end_colx=None)    #返回由该行中所有单元格的数据类型组成的列表\n",
    "table.row_values(rowx, start_colx=0, end_colx=None)   #返回由该行中所有单元格的数据组成的列表\n",
    "table.row_len(rowx) #返回该列的有效单元格长度"
   ]
  }
 ],
 "metadata": {
  "kernelspec": {
   "display_name": "Python 3",
   "language": "python",
   "name": "python3"
  },
  "language_info": {
   "codemirror_mode": {
    "name": "ipython",
    "version": 3
   },
   "file_extension": ".py",
   "mimetype": "text/x-python",
   "name": "python",
   "nbconvert_exporter": "python",
   "pygments_lexer": "ipython3",
   "version": "3.7.0"
  }
 },
 "nbformat": 4,
 "nbformat_minor": 2
}
