{
 "cells": [
  {
   "cell_type": "code",
   "execution_count": 11,
   "metadata": {},
   "outputs": [],
   "source": [
    "import numpy as np\n",
    "from matplotlib import pyplot as plt\n",
    "#数据部分\n",
    "x1 = [4845, 4916, 5068, 5172, 5346, 5432, 5469, 5545, 5655, 5776, 5855, 5993, 6073, 6065, 6145]\n",
    "x2 = [1100, 1087, 1110, 1127, 1205, 1182, 1193, 1193, 1196, 1220, 1239, 1281, 1298, 1307, 1330]\n",
    "y = [10018, 10130, 10165, 10301, 10305, 10373, 10499, 10602, 10702, 10767, 10887, 11012, 11255, 11415, 11590]\n",
    "#最后一组为x1=6266 x2=1343 y=11763"
   ]
  },
  {
   "cell_type": "code",
   "execution_count": 2,
   "metadata": {},
   "outputs": [],
   "source": [
    "#数据处理部分\n",
    "n = len(x1)"
   ]
  },
  {
   "cell_type": "code",
   "execution_count": 3,
   "metadata": {},
   "outputs": [],
   "source": [
    "#平均数计算\n",
    "def average(x,n):\n",
    "    total = 0\n",
    "    for i in range(n):\n",
    "        total+=x[i]\n",
    "    return total/n"
   ]
  },
  {
   "cell_type": "code",
   "execution_count": 4,
   "metadata": {},
   "outputs": [],
   "source": [
    "#回归参数a、b的计算\n",
    "def fix(x,y,n):\n",
    "    up, down = 0, 0\n",
    "    x_bar = average(x,n)\n",
    "    y_bar = average(y,n)\n",
    "    \n",
    "    for i in range(n):\n",
    "        up+=(x[i]-x_bar)*(y[i]-y_bar)\n",
    "        down+=(x[i]-x_bar)**2\n",
    "    \n",
    "    a=up/down\n",
    "    b=y_bar-a*x_bar\n",
    "    \n",
    "    return a,b"
   ]
  },
  {
   "cell_type": "code",
   "execution_count": 5,
   "metadata": {},
   "outputs": [],
   "source": [
    "#线性回归方程\n",
    "def estimate(a,b,value):\n",
    "    return a*value+b"
   ]
  },
  {
   "cell_type": "code",
   "execution_count": 6,
   "metadata": {},
   "outputs": [],
   "source": [
    "#线性回归相关指数R²\n",
    "def getR(a,b,y,n):\n",
    "    up=0\n",
    "    down=0\n",
    "    for i in range(n):\n",
    "        up+=(y[i]-estimate(a,b,x1[i]))**2\n",
    "        down+=(y[i]-average(y,n))**2\n",
    "    return 1-up/down"
   ]
  },
  {
   "cell_type": "code",
   "execution_count": 7,
   "metadata": {},
   "outputs": [
    {
     "name": "stdout",
     "output_type": "stream",
     "text": [
      "分析结束，估计值为11434.5293，实际值为11763.0000，与实际值偏差为-328.470653，相关系数R²为0.92。\n"
     ]
    }
   ],
   "source": [
    "a,b=fix(x1,y,n)\n",
    "es=estimate(a,b,6266)\n",
    "ra=11763\n",
    "R=getR(a,b,y,n)\n",
    "\n",
    "print(\"分析结束，估计值为{:.4f}，实际值为{:.4f}，与实际值偏差为{:2f}，相关系数R²为{:.2f}。\".format(es,ra,es-ra,R))"
   ]
  },
  {
   "cell_type": "code",
   "execution_count": 14,
   "metadata": {},
   "outputs": [
    {
     "data": {
      "image/png": "[encoded data removed]",
      "text/plain": [
       "<Figure size 432x288 with 1 Axes>"
      ]
     },
     "metadata": {
      "needs_background": "light"
     },
     "output_type": "display_data"
    }
   ],
   "source": [
    "plt.title(\"销售额与推广费用关系\") \n",
    "plt.xlabel(\"推广费用\") \n",
    "plt.ylabel(\"销售额\") \n",
    "plt.plot(x1,y)\n",
    "plt.show()"
   ]
  },
  {
   "cell_type": "code",
   "execution_count": 8,
   "metadata": {},
   "outputs": [],
   "source": [
    "\n",
    "def getrs(n, x, y, x_bar, y_bar):\n",
    "#     up, down = 0, 0\n",
    "#     a, b = 0, 0\n",
    "#     for i in range(n):\n",
    "#         up = up + (x[i]-x_bar)*(y[i]-y_bar)\n",
    "#         a = a + sqrt(pow((x[i]-x_bar), 2))\n",
    "#         b = b + sqrt(pow((y[i]-y_bar), 2))\n",
    "#     down = a*b\n",
    "    up = np.cov(x, y)\n",
    "    down = sqrt(np.var(x)*np.var(y))\n",
    "    return up/down"
   ]
  },
  {
   "cell_type": "code",
   "execution_count": 9,
   "metadata": {},
   "outputs": [
    {
     "data": {
      "text/plain": [
       "array([[0.95001349, 1.02700972],\n",
       "       [1.02700972, 1.20836092]])"
      ]
     },
     "execution_count": 9,
     "metadata": {},
     "output_type": "execute_result"
    }
   ],
   "source": [
    "getrs(len(x1), x1, y, average(x1, len(x1)), average(y, len(y)))"
   ]
  },
  {
   "cell_type": "code",
   "execution_count": 13,
   "metadata": {},
   "outputs": [
    {
     "name": "stdout",
     "output_type": "stream",
     "text": [
      "0.9585424009057183\n"
     ]
    }
   ],
   "source": [
    "#相关系数r计算\n",
    "XMean = np.mean(x1)\n",
    "YMean = np.mean(y)\n",
    "XSD = np.std(x1)\n",
    "YSD = np.std(y)\n",
    "ZX = (x1-XMean)/XSD\n",
    "ZY = (y-YMean)/YSD#相关系数\n",
    "r = np.sum(ZX*ZY)/(len(x1))\n",
    "print(r)"
   ]
  },
  {
   "cell_type": "code",
   "execution_count": 14,
   "metadata": {},
   "outputs": [],
   "source": [
    "#相关系数r计算\n",
    "def getrs(x, y):\n",
    "    XMean = np.mean(x)\n",
    "    YMean = np.mean(y)\n",
    "    XSD = np.std(x)\n",
    "    YSD = np.std(y)\n",
    "    ZX = (x-XMean)/XSD\n",
    "    ZY = (y-YMean)/YSD#相关系数\n",
    "    r = np.sum(ZX*ZY)/(len(x))\n",
    "    return r"
   ]
  },
  {
   "cell_type": "code",
   "execution_count": 16,
   "metadata": {},
   "outputs": [
    {
     "data": {
      "text/plain": [
       "0.9585424009057183"
      ]
     },
     "execution_count": 16,
     "metadata": {},
     "output_type": "execute_result"
    }
   ],
   "source": [
    "getrs(x1, y)"
   ]
  },
  {
   "cell_type": "code",
   "execution_count": null,
   "metadata": {},
   "outputs": [],
   "source": []
  }
 ],
 "metadata": {
  "kernelspec": {
   "display_name": "Python 3",
   "language": "python",
   "name": "python3"
  },
  "language_info": {
   "codemirror_mode": {
    "name": "ipython",
    "version": 3
   },
   "file_extension": ".py",
   "mimetype": "text/x-python",
   "name": "python",
   "nbconvert_exporter": "python",
   "pygments_lexer": "ipython3",
   "version": "3.7.4"
  }
 },
 "nbformat": 4,
 "nbformat_minor": 2
}
