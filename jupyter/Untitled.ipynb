{
 "cells": [
  {
   "cell_type": "code",
   "execution_count": 58,
   "metadata": {},
   "outputs": [
    {
     "name": "stdout",
     "output_type": "stream",
     "text": [
      "[['76290651', 'jpg'], ['82213275', 'jpg'], ['82276630', 'jpg'], ['82383344', 'jpg'], ['82402672', 'jpg'], ['83197699', 'jpg'], ['86032684', 'jpg'], ['86238865', 'png'], ['88401808', 'png'], ['88588610', 'png'], ['88724849', 'png'], ['89068921', 'jpg'], ['89477995', 'jpg'], ['89526386', 'jpg'], ['89635719', 'jpg'], ['89670715', 'png'], ['90084095', 'png'], ['90302490', 'png'], ['90324401', 'png'], ['90766279', 'png'], ['90769782', 'png'], ['94117580', 'jpg']]\n",
      "状态： <bound method Response.raise_for_status of <Response [200]>>\n"
     ]
    },
    {
     "data": {
      "text/plain": [
       "{'pict_id': '94092164',\n",
       " 'authorName': 'TAYA',\n",
       " 'authorId': '5323203',\n",
       " 'original': 'https://i.pximg.net/img-original/img/2021/11/13/00/03/00/94092164_p0.jpg',\n",
       " 'loacl': 'file:///c:/User/25315/Desktop/文件/图片/pixiv/94092164_p0.jpg'}"
      ]
     },
     "execution_count": 58,
     "metadata": {},
     "output_type": "execute_result"
    }
   ],
   "source": [
    "import csv\n",
    "import os\n",
    "import requests\n",
    "from bs4 import BeautifulSoup\n",
    "\n",
    "root_path = \"C:\\\\Users\\\\25315\\\\Desktop\\\\文件\\\\图片\\\\pixiv\\\\\"\n",
    "temp_path = root_path+\"temp\\\\\"\n",
    "\n",
    "pict_id_list = list(map(lambda x:x.split('_p0.'), os.listdir(temp_path)))\n",
    "print(pict_id_list)\n",
    "\n",
    "def find_creator(pict_id):\n",
    "    headers = {\"User-Agent\":\"Mozilla/5.0 (Windows NT 10.0; Win64; x64) AppleWebKit/537.36 (KHTML, like Gecko) Chrome/88.0.4324.190 Safari/537.36 FS\"}\n",
    "    url = \"https://www.pixiv.net/artworks/\"+pict_id[0]\n",
    "    \n",
    "    r = requests.get(url=url, headers=headers)\n",
    "    r.encoding = r.apparent_encoding\n",
    "    print(\"状态：\", r.raise_for_status)\n",
    "    text = r.text\n",
    "    # print(text)\n",
    "    \n",
    "    soup = BeautifulSoup(text, 'html.parser')\n",
    "    data_sp = soup.find_all('meta')[-1]\n",
    "#     print(type(data_sp))\n",
    "#     print(data_sp)\n",
    "    false = False\n",
    "    true = True\n",
    "    null = None\n",
    "#     data = list(list(eval(data_sp.get('content'))['user'].values())[0].items())[:3]\n",
    "#     data = list(list(eval(data_sp.get('content'))['user'].values())[0].items())\n",
    "    data = list(eval(data_sp.get('content'))['illust'].values())[0]\n",
    "    info_dict = {'pict_id':data['illustId'],\n",
    "                 'authorName':data['userName'],\n",
    "                 'authorId':data['userId'],\n",
    "                 'original':data['urls']['original'],\n",
    "                 'loacl':\"file:///c:/User/25315/Desktop/文件/图片/pixiv/\"+pict_id[0]+'_p0.'+pict_id[1]}\n",
    "#     for key, value in data.items():\n",
    "#         print(\"{}\\t{}\".format(key, value), end='\\n\\n')\n",
    "#         info_dict.setdefault(key, value)\n",
    "#     print(info_dict)\n",
    "#     https://i.pximg.net/img-original/img/2021/11/13/00/00/03/94091879_p0.png\n",
    "    return info_dict\n",
    "\n",
    "# https://i.pximg.net/img-original/img/2021/11/13/00/03/00/94092164_p0.jpg\n",
    "find_creator(['94092164', 'jpg'])\n",
    "# find_creator(['76290651', 'jpg'])"
   ]
  },
  {
   "cell_type": "code",
   "execution_count": 2,
   "metadata": {},
   "outputs": [],
   "source": [
    "import shutil, os\n",
    "root_path = \"C:\\\\Users\\\\25315\\\\Desktop\\\\文件\\\\图片\\\\pixiv\\\\\"\n",
    "temp_path = root_path+\"temp\\\\\"\n",
    "for i in os.listdir(temp_path):\n",
    "    shutil.move(temp_path+i, root_path)"
   ]
  },
  {
   "cell_type": "code",
   "execution_count": null,
   "metadata": {},
   "outputs": [],
   "source": []
  }
 ],
 "metadata": {
  "kernelspec": {
   "display_name": "Python 3",
   "language": "python",
   "name": "python3"
  },
  "language_info": {
   "codemirror_mode": {
    "name": "ipython",
    "version": 3
   },
   "file_extension": ".py",
   "mimetype": "text/x-python",
   "name": "python",
   "nbconvert_exporter": "python",
   "pygments_lexer": "ipython3",
   "version": "3.7.0"
  }
 },
 "nbformat": 4,
 "nbformat_minor": 2
}
