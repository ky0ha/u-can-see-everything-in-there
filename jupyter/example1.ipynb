{
 "cells": [
  {
   "cell_type": "code",
   "execution_count": 7,
   "metadata": {},
   "outputs": [],
   "source": [
    "import os"
   ]
  },
  {
   "cell_type": "code",
   "execution_count": 8,
   "metadata": {},
   "outputs": [
    {
     "data": {
      "text/plain": [
       "'C:\\\\Users\\\\25315'"
      ]
     },
     "execution_count": 8,
     "metadata": {},
     "output_type": "execute_result"
    }
   ],
   "source": [
    "os.getcwd()"
   ]
  },
  {
   "cell_type": "code",
   "execution_count": 9,
   "metadata": {},
   "outputs": [
    {
     "data": {
      "text/plain": [
       "['dir1', 'dir2', 'dir3', 'file1.txt', 'file2.txt']"
      ]
     },
     "execution_count": 9,
     "metadata": {},
     "output_type": "execute_result"
    }
   ],
   "source": [
    "os.listdir('C:\\\\Users\\\\25315\\\\Desktop\\\\文件\\\\code\\\\onlyVS\\\\python\\\\爬虫学习\\\\大数据采集实验\\\\实验1文件')"
   ]
  },
  {
   "cell_type": "code",
   "execution_count": 10,
   "metadata": {},
   "outputs": [
    {
     "data": {
      "text/plain": [
       "False"
      ]
     },
     "execution_count": 10,
     "metadata": {},
     "output_type": "execute_result"
    }
   ],
   "source": [
    "os.path.isfile(os.listdir('C:\\\\Users\\\\25315\\\\Desktop\\\\大数据采集实验\\\\实验1文件')[0])"
   ]
  },
  {
   "cell_type": "code",
   "execution_count": 11,
   "metadata": {},
   "outputs": [
    {
     "data": {
      "text/plain": [
       "False"
      ]
     },
     "execution_count": 11,
     "metadata": {},
     "output_type": "execute_result"
    }
   ],
   "source": [
    "os.path.isdir(os.listdir('C:\\\\Users\\\\25315\\\\Desktop\\\\大数据采集实验\\\\实验1文件')[0])"
   ]
  },
  {
   "cell_type": "code",
   "execution_count": 15,
   "metadata": {},
   "outputs": [
    {
     "data": {
      "text/plain": [
       "True"
      ]
     },
     "execution_count": 15,
     "metadata": {},
     "output_type": "execute_result"
    }
   ],
   "source": [
    "os.path.isdir('C:\\\\Users\\\\25315\\\\Desktop\\\\大数据采集实验\\\\实验1文件\\\\dir1')"
   ]
  },
  {
   "cell_type": "code",
   "execution_count": 18,
   "metadata": {},
   "outputs": [
    {
     "data": {
      "text/plain": [
       "'C:\\\\Users\\\\25315\\\\Desktop\\\\大数据采集实验\\\\实验1文件'"
      ]
     },
     "execution_count": 18,
     "metadata": {},
     "output_type": "execute_result"
    }
   ],
   "source": [
    "os.path.dirname('C:\\\\Users\\\\25315\\\\Desktop\\\\大数据采集实验\\\\实验1文件\\\\file1.txt')"
   ]
  },
  {
   "cell_type": "code",
   "execution_count": 19,
   "metadata": {},
   "outputs": [
    {
     "data": {
      "text/plain": [
       "'file1.txt'"
      ]
     },
     "execution_count": 19,
     "metadata": {},
     "output_type": "execute_result"
    }
   ],
   "source": [
    "os.path.basename('C:\\\\Users\\\\25315\\\\Desktop\\\\大数据采集实验\\\\实验1文件\\\\file1.txt')"
   ]
  },
  {
   "cell_type": "code",
   "execution_count": 21,
   "metadata": {
    "scrolled": true
   },
   "outputs": [
    {
     "data": {
      "text/plain": [
       "['', '.txt']"
      ]
     },
     "execution_count": 21,
     "metadata": {},
     "output_type": "execute_result"
    }
   ],
   "source": [
    "result = 'file1.txt'\n",
    "\n",
    "target_type='file'\n",
    "target_name='*.txt'\n",
    "# target_name = target_name.split('*')\n",
    "# if target_name[0] == '':\n",
    "#     target_name = '.txt'\n",
    "#     found_mode = 'endswith'\n",
    "if target_name[0]=='*':\n",
    "    target_name = target_name[1:]\n",
    "    target_mode = 'endswith'\n",
    "else if target_name[-1]=='*':\n",
    "    target_name = target_name[:-1]\n",
    "    target_mode = 'startswith'\n",
    "else if target_name!='':\n",
    "    target_name = target_name.split('*')\n",
    "    if len(target_name==1):\n",
    "        target_name = target_name[0]\n",
    "        target_mode = 'allswith'\n",
    "    else:\n",
    "        target_mode = 'midswith'"
   ]
  },
  {
   "cell_type": "code",
   "execution_count": 25,
   "metadata": {},
   "outputs": [
    {
     "data": {
      "text/plain": [
       "['file', 'txt']"
      ]
     },
     "execution_count": 25,
     "metadata": {},
     "output_type": "execute_result"
    }
   ],
   "source": [
    "'file*txt'.split('*')"
   ]
  },
  {
   "cell_type": "code",
   "execution_count": 39,
   "metadata": {},
   "outputs": [],
   "source": [
    "class target:\n",
    "    result = []\n",
    "    def __init__(self, target_name, target_type, target_mode):\n",
    "        self.name = target_name\n",
    "        self.type = target_type\n",
    "        self.mode = target_mode\n",
    "    \n",
    "    def found_target(self, path):\n",
    "        if os.path.isdir(path):\n",
    "            dirlist = os.listdir(path)\n",
    "            if dirlist:\n",
    "                return path\n",
    "            elif:\n",
    "                found_path\n",
    "                    "
   ]
  },
  {
   "cell_type": "code",
   "execution_count": 40,
   "metadata": {},
   "outputs": [],
   "source": [
    "result = 'file1.txt'\n",
    "\n",
    "target_type='file'\n",
    "target_name='*.txt'\n",
    "# target_name = target_name.split('*')\n",
    "# if target_name[0] == '':\n",
    "#     target_name = '.txt'\n",
    "#     found_mode = 'endswith'\n",
    "if target_name[0]=='*':\n",
    "    targets = target(target_name[1:], target_type, 'endswith')\n",
    "elif target_name[-1]=='*':\n",
    "    targets = target(target_name[:-1], target_type, 'startswith')\n",
    "elif target_name!='':\n",
    "    target_name = target_name.split('*')\n",
    "    if len(target_name==1):\n",
    "        targets = target(target_name[0], target_type, 'allswith')\n",
    "    else:\n",
    "        targets = target(target_name, target_type, 'midswith')"
   ]
  },
  {
   "cell_type": "code",
   "execution_count": 41,
   "metadata": {},
   "outputs": [
    {
     "data": {
      "text/plain": [
       "'.txt'"
      ]
     },
     "execution_count": 41,
     "metadata": {},
     "output_type": "execute_result"
    }
   ],
   "source": [
    "targets.name"
   ]
  },
  {
   "cell_type": "code",
   "execution_count": 42,
   "metadata": {},
   "outputs": [
    {
     "data": {
      "text/plain": [
       "'endswith'"
      ]
     },
     "execution_count": 42,
     "metadata": {},
     "output_type": "execute_result"
    }
   ],
   "source": [
    "targets.mode"
   ]
  },
  {
   "cell_type": "code",
   "execution_count": 43,
   "metadata": {},
   "outputs": [
    {
     "data": {
      "text/plain": [
       "'file'"
      ]
     },
     "execution_count": 43,
     "metadata": {},
     "output_type": "execute_result"
    }
   ],
   "source": [
    "targets.type"
   ]
  },
  {
   "cell_type": "code",
   "execution_count": 44,
   "metadata": {},
   "outputs": [],
   "source": [
    "def found(path='C:\\\\Users\\\\25315\\\\Desktop\\\\大数据采集实验\\\\实验1文件', target_type='file', target_name='*.txt'):\n",
    "    return 0"
   ]
  },
  {
   "cell_type": "code",
   "execution_count": 45,
   "metadata": {},
   "outputs": [
    {
     "data": {
      "text/plain": [
       "<module 'ntpath' from 'C:\\\\ProgramData\\\\Anaconda3\\\\lib\\\\ntpath.py'>"
      ]
     },
     "execution_count": 45,
     "metadata": {},
     "output_type": "execute_result"
    }
   ],
   "source": [
    "os.path"
   ]
  },
  {
   "cell_type": "code",
   "execution_count": 50,
   "metadata": {},
   "outputs": [
    {
     "name": "stdout",
     "output_type": "stream",
     "text": [
      "2\n"
     ]
    }
   ],
   "source": [
    "if []:\n",
    "    print(1)\n",
    "else:\n",
    "    print(2)"
   ]
  },
  {
   "cell_type": "code",
   "execution_count": 13,
   "metadata": {},
   "outputs": [
    {
     "name": "stdout",
     "output_type": "stream",
     "text": [
      "['dir1', 'dir2', 'dir3', 'file1.txt', 'file2.txt']\n"
     ]
    }
   ],
   "source": [
    "def found(path='C:\\\\Users\\\\25315\\\\Desktop\\\\大数据采集实验\\\\实验1文件'):\n",
    "    file_list = os.listdir(path)\n",
    "    for i in file_list:\n",
    "        \n",
    "found()"
   ]
  },
  {
   "cell_type": "code",
   "execution_count": null,
   "metadata": {},
   "outputs": [],
   "source": []
  }
 ],
 "metadata": {
  "kernelspec": {
   "display_name": "Python 3",
   "language": "python",
   "name": "python3"
  },
  "language_info": {
   "codemirror_mode": {
    "name": "ipython",
    "version": 3
   },
   "file_extension": ".py",
   "mimetype": "text/x-python",
   "name": "python",
   "nbconvert_exporter": "python",
   "pygments_lexer": "ipython3",
   "version": "3.7.0"
  }
 },
 "nbformat": 4,
 "nbformat_minor": 2
}
