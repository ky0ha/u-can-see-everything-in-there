{
 "cells": [
  {
   "cell_type": "code",
   "execution_count": 3,
   "metadata": {},
   "outputs": [
    {
     "name": "stdout",
     "output_type": "stream",
     "text": [
      "状态码： 200\n",
      "dict_keys(['total_count', 'incomplete_results', 'items'])\n"
     ]
    }
   ],
   "source": [
    "import requests\n",
    "api_url = 'https://api.github.com/search/repositories?q=spider'\n",
    "req = requests.get(api_url)\n",
    "print('状态码：',req.status_code)\n",
    "req_dic = req.json()\n",
    "print(req_dic.keys())"
   ]
  },
  {
   "cell_type": "code",
   "execution_count": 4,
   "metadata": {},
   "outputs": [
    {
     "name": "stdout",
     "output_type": "stream",
     "text": [
      "状态码： 200\n",
      "与spider有关的库总数： 50901\n",
      "本次请求是否完整： False\n",
      "当前页面返回的项目数量： 30\n",
      "查看第一个项目中的内容数量： 75\n",
      "第一个项目中的具体内容： {'id': 90349239, 'node_id': 'MDEwOlJlcG9zaXRvcnk5MDM0OTIzOQ==', 'name': 'python-spider', 'full_name': 'Jack-Cherish/python-spider', 'private': False, 'owner': {'login': 'Jack-Cherish', 'id': 16872370, 'node_id': 'MDQ6VXNlcjE2ODcyMzcw', 'avatar_url': 'https://avatars.githubusercontent.com/u/16872370?v=4', 'gravatar_id': '', 'url': 'https://api.github.com/users/Jack-Cherish', 'html_url': 'https://github.com/Jack-Cherish', 'followers_url': 'https://api.github.com/users/Jack-Cherish/followers', 'following_url': 'https://api.github.com/users/Jack-Cherish/following{/other_user}', 'gists_url': 'https://api.github.com/users/Jack-Cherish/gists{/gist_id}', 'starred_url': 'https://api.github.com/users/Jack-Cherish/starred{/owner}{/repo}', 'subscriptions_url': 'https://api.github.com/users/Jack-Cherish/subscriptions', 'organizations_url': 'https://api.github.com/users/Jack-Cherish/orgs', 'repos_url': 'https://api.github.com/users/Jack-Cherish/repos', 'events_url': 'https://api.github.com/users/Jack-Cherish/events{/privacy}', 'received_events_url': 'https://api.github.com/users/Jack-Cherish/received_events', 'type': 'User', 'site_admin': False}, 'html_url': 'https://github.com/Jack-Cherish/python-spider', 'description': ':rainbow:Python3网络爬虫实战：淘宝、京东、网易云、B站、12306、抖音、笔趣阁、漫画小说下载、音乐电影下载等', 'fork': False, 'url': 'https://api.github.com/repos/Jack-Cherish/python-spider', 'forks_url': 'https://api.github.com/repos/Jack-Cherish/python-spider/forks', 'keys_url': 'https://api.github.com/repos/Jack-Cherish/python-spider/keys{/key_id}', 'collaborators_url': 'https://api.github.com/repos/Jack-Cherish/python-spider/collaborators{/collaborator}', 'teams_url': 'https://api.github.com/repos/Jack-Cherish/python-spider/teams', 'hooks_url': 'https://api.github.com/repos/Jack-Cherish/python-spider/hooks', 'issue_events_url': 'https://api.github.com/repos/Jack-Cherish/python-spider/issues/events{/number}', 'events_url': 'https://api.github.com/repos/Jack-Cherish/python-spider/events', 'assignees_url': 'https://api.github.com/repos/Jack-Cherish/python-spider/assignees{/user}', 'branches_url': 'https://api.github.com/repos/Jack-Cherish/python-spider/branches{/branch}', 'tags_url': 'https://api.github.com/repos/Jack-Cherish/python-spider/tags', 'blobs_url': 'https://api.github.com/repos/Jack-Cherish/python-spider/git/blobs{/sha}', 'git_tags_url': 'https://api.github.com/repos/Jack-Cherish/python-spider/git/tags{/sha}', 'git_refs_url': 'https://api.github.com/repos/Jack-Cherish/python-spider/git/refs{/sha}', 'trees_url': 'https://api.github.com/repos/Jack-Cherish/python-spider/git/trees{/sha}', 'statuses_url': 'https://api.github.com/repos/Jack-Cherish/python-spider/statuses/{sha}', 'languages_url': 'https://api.github.com/repos/Jack-Cherish/python-spider/languages', 'stargazers_url': 'https://api.github.com/repos/Jack-Cherish/python-spider/stargazers', 'contributors_url': 'https://api.github.com/repos/Jack-Cherish/python-spider/contributors', 'subscribers_url': 'https://api.github.com/repos/Jack-Cherish/python-spider/subscribers', 'subscription_url': 'https://api.github.com/repos/Jack-Cherish/python-spider/subscription', 'commits_url': 'https://api.github.com/repos/Jack-Cherish/python-spider/commits{/sha}', 'git_commits_url': 'https://api.github.com/repos/Jack-Cherish/python-spider/git/commits{/sha}', 'comments_url': 'https://api.github.com/repos/Jack-Cherish/python-spider/comments{/number}', 'issue_comment_url': 'https://api.github.com/repos/Jack-Cherish/python-spider/issues/comments{/number}', 'contents_url': 'https://api.github.com/repos/Jack-Cherish/python-spider/contents/{+path}', 'compare_url': 'https://api.github.com/repos/Jack-Cherish/python-spider/compare/{base}...{head}', 'merges_url': 'https://api.github.com/repos/Jack-Cherish/python-spider/merges', 'archive_url': 'https://api.github.com/repos/Jack-Cherish/python-spider/{archive_format}{/ref}', 'downloads_url': 'https://api.github.com/repos/Jack-Cherish/python-spider/downloads', 'issues_url': 'https://api.github.com/repos/Jack-Cherish/python-spider/issues{/number}', 'pulls_url': 'https://api.github.com/repos/Jack-Cherish/python-spider/pulls{/number}', 'milestones_url': 'https://api.github.com/repos/Jack-Cherish/python-spider/milestones{/number}', 'notifications_url': 'https://api.github.com/repos/Jack-Cherish/python-spider/notifications{?since,all,participating}', 'labels_url': 'https://api.github.com/repos/Jack-Cherish/python-spider/labels{/name}', 'releases_url': 'https://api.github.com/repos/Jack-Cherish/python-spider/releases{/id}', 'deployments_url': 'https://api.github.com/repos/Jack-Cherish/python-spider/deployments', 'created_at': '2017-05-05T07:28:13Z', 'updated_at': '2021-09-21T06:44:35Z', 'pushed_at': '2021-06-05T03:27:01Z', 'git_url': 'git://github.com/Jack-Cherish/python-spider.git', 'ssh_url': 'git@github.com:Jack-Cherish/python-spider.git', 'clone_url': 'https://github.com/Jack-Cherish/python-spider.git', 'svn_url': 'https://github.com/Jack-Cherish/python-spider', 'homepage': 'https://cuijiahua.com/blog/spider/', 'size': 1277, 'stargazers_count': 13760, 'watchers_count': 13760, 'language': 'Python', 'has_issues': True, 'has_projects': False, 'has_downloads': True, 'has_wiki': False, 'has_pages': False, 'forks_count': 5264, 'mirror_url': None, 'archived': False, 'disabled': False, 'open_issues_count': 6, 'license': None, 'allow_forking': True, 'forks': 5264, 'open_issues': 6, 'watchers': 13760, 'default_branch': 'master', 'score': 1.0}\n",
      "获得第一个项目的作者的登录名 Jack-Cherish\n",
      "获得第一个项目的全名 Jack-Cherish/python-spider\n",
      "获得第一个项目的描述 :rainbow:Python3网络爬虫实战：淘宝、京东、网易云、B站、12306、抖音、笔趣阁、漫画小说下载、音乐电影下载等\n",
      "获得第一个项目评分 1.0\n"
     ]
    }
   ],
   "source": [
    "import requests\n",
    "api_url = 'https://api.github.com/search/repositories?q=spider'\n",
    "req = requests.get(api_url)\n",
    "print('状态码：',req.status_code)\n",
    "req_dic = req.json()\n",
    "print('与spider有关的库总数：',req_dic['total_count'])\n",
    "print('本次请求是否完整：',req_dic['incomplete_results'])\n",
    "req_dic_items = req_dic['items']\n",
    "print('当前页面返回的项目数量：',len(req_dic_items))\n",
    "req_dic_items_first=req_dic_items[0]\n",
    "print('查看第一个项目中的内容数量：',len(req_dic_items_first))\n",
    "print('第一个项目中的具体内容：',req_dic_items_first)\n",
    "print('获得第一个项目的作者的登录名',req_dic_items_first['owner']['login'])\n",
    "print('获得第一个项目的全名',req_dic_items_first['full_name'])\n",
    "print('获得第一个项目的描述',req_dic_items_first['description'])\n",
    "print('获得第一个项目评分',req_dic_items_first['score'])"
   ]
  },
  {
   "cell_type": "code",
   "execution_count": null,
   "metadata": {},
   "outputs": [],
   "source": []
  }
 ],
 "metadata": {
  "kernelspec": {
   "display_name": "Python 3",
   "language": "python",
   "name": "python3"
  },
  "language_info": {
   "codemirror_mode": {
    "name": "ipython",
    "version": 3
   },
   "file_extension": ".py",
   "mimetype": "text/x-python",
   "name": "python",
   "nbconvert_exporter": "python",
   "pygments_lexer": "ipython3",
   "version": "3.7.4"
  }
 },
 "nbformat": 4,
 "nbformat_minor": 2
}
