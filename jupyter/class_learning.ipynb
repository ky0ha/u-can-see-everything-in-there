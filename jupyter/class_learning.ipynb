{
 "cells": [
  {
   "cell_type": "code",
   "execution_count": null,
   "metadata": {},
   "outputs": [],
   "source": [
    "class ClassName:\n",
    "    '类的帮助信息'    #类文档字符串\n",
    "    class_suite    #类体"
   ]
  },
  {
   "cell_type": "code",
   "execution_count": 1,
   "metadata": {},
   "outputs": [],
   "source": [
    "class Employee:\n",
    "    '所有员工的基类'\n",
    "    empCount = 0    #empCount 变量是一个类变量，它的值将在这个类的所有实例之间共享。你可以在内部类或外部类使用 Employee.empCount 访问。\n",
    "    \n",
    "    def __init__(self, name, salary):    #类的构造函数或初始化方法，当创建了这个类的实例时就会调用该方法\n",
    "        self.name = name\n",
    "        self.salary = salary\n",
    "        Employee.empCount += 1\n",
    "    \n",
    "    def displayCount(self):    #self 代表类的实例，代表当前对象的地址，而 self.__class__ 则指向类。\n",
    "        print(\"Total Employee %d\",Employee.empCount)\n",
    "    \n",
    "    def displayEmployee(self):\n",
    "        print(\"Name: \", self.name, \", Salary: \",self.salary)"
   ]
  },
  {
   "cell_type": "code",
   "execution_count": 9,
   "metadata": {},
   "outputs": [
    {
     "name": "stdout",
     "output_type": "stream",
     "text": [
      "Name:  Manni , Salary:  5000\n"
     ]
    }
   ],
   "source": [
    "'''\n",
    "实例化类其他编程语言中一般用关键字 new，但是在 Python 中并没有这个关键字，类的实例化类似函数调用方式。\n",
    "\n",
    "以下使用类的名称 Employee 来实例化，并通过 __init__ 方法接收参数。\n",
    "'''\n",
    "\"创建 Employee 类的第一个对象\"\n",
    "emp1 = Employee(\"Zara\", 2000)\n",
    "\"创建 Employee 类的第二个对象\"\n",
    "emp2 = Employee(\"Manni\", 5000)\n",
    "emp2.displayEmployee()"
   ]
  },
  {
   "cell_type": "code",
   "execution_count": 10,
   "metadata": {},
   "outputs": [],
   "source": [
    "emp1.age = 7  # 添加一个 'age' 属性\n",
    "emp1.age = 8  # 修改 'age' 属性\n",
    "del emp1.age  # 删除 'age' 属性"
   ]
  },
  {
   "cell_type": "code",
   "execution_count": 11,
   "metadata": {},
   "outputs": [
    {
     "ename": "AttributeError",
     "evalue": "'Employee' object has no attribute 'age'",
     "output_type": "error",
     "traceback": [
      "\u001b[1;31m---------------------------------------------------------------------------\u001b[0m",
      "\u001b[1;31mAttributeError\u001b[0m                            Traceback (most recent call last)",
      "\u001b[1;32m<ipython-input-11-4c0677fb6cc7>\u001b[0m in \u001b[0;36m<module>\u001b[1;34m\u001b[0m\n\u001b[0;32m      7\u001b[0m \u001b[1;33m\u001b[0m\u001b[0m\n\u001b[0;32m      8\u001b[0m \u001b[0mhasattr\u001b[0m\u001b[1;33m(\u001b[0m\u001b[0memp1\u001b[0m\u001b[1;33m,\u001b[0m \u001b[1;34m'age'\u001b[0m\u001b[1;33m)\u001b[0m    \u001b[1;31m# 如果存在 'age' 属性返回 True。\u001b[0m\u001b[1;33m\u001b[0m\u001b[1;33m\u001b[0m\u001b[0m\n\u001b[1;32m----> 9\u001b[1;33m \u001b[0mgetattr\u001b[0m\u001b[1;33m(\u001b[0m\u001b[0memp1\u001b[0m\u001b[1;33m,\u001b[0m \u001b[1;34m'age'\u001b[0m\u001b[1;33m)\u001b[0m    \u001b[1;31m# 返回 'age' 属性的值\u001b[0m\u001b[1;33m\u001b[0m\u001b[1;33m\u001b[0m\u001b[0m\n\u001b[0m\u001b[0;32m     10\u001b[0m \u001b[0msetattr\u001b[0m\u001b[1;33m(\u001b[0m\u001b[0memp1\u001b[0m\u001b[1;33m,\u001b[0m \u001b[1;34m'age'\u001b[0m\u001b[1;33m,\u001b[0m \u001b[1;36m8\u001b[0m\u001b[1;33m)\u001b[0m \u001b[1;31m# 添加属性 'age' 值为 8\u001b[0m\u001b[1;33m\u001b[0m\u001b[1;33m\u001b[0m\u001b[0m\n\u001b[0;32m     11\u001b[0m \u001b[0mdelattr\u001b[0m\u001b[1;33m(\u001b[0m\u001b[0memp1\u001b[0m\u001b[1;33m,\u001b[0m \u001b[1;34m'age'\u001b[0m\u001b[1;33m)\u001b[0m    \u001b[1;31m# 删除属性 'age'\u001b[0m\u001b[1;33m\u001b[0m\u001b[1;33m\u001b[0m\u001b[0m\n",
      "\u001b[1;31mAttributeError\u001b[0m: 'Employee' object has no attribute 'age'"
     ]
    }
   ],
   "source": [
    "'''你也可以使用以下函数的方式来访问属性：\n",
    "\n",
    "getattr(obj, name[, default]) : 访问对象的属性。\n",
    "hasattr(obj,name) : 检查是否存在一个属性。\n",
    "setattr(obj,name,value) : 设置一个属性。如果属性不存在，会创建一个新属性。\n",
    "delattr(obj, name) : 删除属性。'''\n",
    "\n",
    "hasattr(emp1, 'age')    # 如果存在 'age' 属性返回 True。\n",
    "getattr(emp1, 'age')    # 返回 'age' 属性的值\n",
    "setattr(emp1, 'age', 8) # 添加属性 'age' 值为 8\n",
    "delattr(emp1, 'age')    # 删除属性 'age'"
   ]
  },
  {
   "cell_type": "markdown",
   "metadata": {},
   "source": [
    "# Python内置类属性"
   ]
  },
  {
   "cell_type": "markdown",
   "metadata": {},
   "source": [
    "__dict__ : 类的属性（包含一个字典，由类的数据属性组成）\n",
    "__doc__ :类的文档字符串\n",
    "__name__: 类名\n",
    "__module__: 类定义所在的模块（类的全名是'__main__.className'，如果类位于一个导入模块mymod中，那么className.__module__ 等于 mymod）\n",
    "__bases__ : 类的所有父类构成元素（包含了一个由所有父类组成的元组）"
   ]
  },
  {
   "cell_type": "code",
   "execution_count": 16,
   "metadata": {},
   "outputs": [
    {
     "name": "stdout",
     "output_type": "stream",
     "text": [
      "Employee.__doc__: 所有员工的基类\n",
      "Employee.__name__: Employee\n",
      "Employee.__module__: __main__\n",
      "Employee.__bases__: (<class 'object'>,)\n",
      "Employee.__dict__: {'__module__': '__main__', '__doc__': '所有员工的基类', 'empCount': 0, '__init__': <function Employee.__init__ at 0x000001D81903B318>, 'displayCount': <function Employee.displayCount at 0x000001D81903B3A8>, 'displayEmployee': <function Employee.displayEmployee at 0x000001D81903B048>, '__dict__': <attribute '__dict__' of 'Employee' objects>, '__weakref__': <attribute '__weakref__' of 'Employee' objects>}\n"
     ]
    }
   ],
   "source": [
    "class Employee:\n",
    "'所有员工的基类'\n",
    "   empCount = 0\n",
    " \n",
    "    def __init__(self, name, salary):\n",
    "        self.name = name\n",
    "        self.salary = salary\n",
    "    Employee.empCount += 1\n",
    "   \n",
    "   def displayCount(self):\n",
    "     print(\"Total Employee %d\",Employee.empCount)\n",
    " \n",
    "   def displayEmployee(self):\n",
    "      print(\"Name : \", self.name,  \", Salary: \", self.salary)\n",
    " \n",
    "print( \"Employee.__doc__:\", Employee.__doc__)\n",
    "print( \"Employee.__name__:\", Employee.__name__)\n",
    "print( \"Employee.__module__:\", Employee.__module__)\n",
    "print( \"Employee.__bases__:\", Employee.__bases__)\n",
    "print( \"Employee.__dict__:\", Employee.__dict__)"
   ]
  },
  {
   "cell_type": "code",
   "execution_count": 3,
   "metadata": {},
   "outputs": [
    {
     "ename": "TypeError",
     "evalue": "F() missing 2 required positional arguments: 'm' and 'n'",
     "output_type": "error",
     "traceback": [
      "\u001b[1;31m---------------------------------------------------------------------------\u001b[0m",
      "\u001b[1;31mTypeError\u001b[0m                                 Traceback (most recent call last)",
      "\u001b[1;32m<ipython-input-3-c5a4b43d14b1>\u001b[0m in \u001b[0;36m<module>\u001b[1;34m\u001b[0m\n\u001b[0;32m     11\u001b[0m     \u001b[0mt6\u001b[0m \u001b[1;33m=\u001b[0m \u001b[0mmath\u001b[0m\u001b[1;33m.\u001b[0m\u001b[0me\u001b[0m\u001b[1;33m**\u001b[0m\u001b[1;33m(\u001b[0m\u001b[1;33m-\u001b[0m\u001b[0mt5\u001b[0m\u001b[1;33m)\u001b[0m\u001b[1;33m\u001b[0m\u001b[1;33m\u001b[0m\u001b[0m\n\u001b[0;32m     12\u001b[0m     \u001b[1;32mreturn\u001b[0m \u001b[1;36m1\u001b[0m\u001b[1;33m/\u001b[0m\u001b[0mt1\u001b[0m\u001b[1;33m*\u001b[0m\u001b[0mt6\u001b[0m\u001b[1;33m\u001b[0m\u001b[1;33m\u001b[0m\u001b[0m\n\u001b[1;32m---> 13\u001b[1;33m \u001b[0mY1\u001b[0m\u001b[1;33m=\u001b[0m\u001b[0mlist\u001b[0m\u001b[1;33m(\u001b[0m\u001b[0mmap\u001b[0m\u001b[1;33m(\u001b[0m\u001b[0mF\u001b[0m\u001b[1;33m,\u001b[0m\u001b[0mx\u001b[0m\u001b[1;33m)\u001b[0m\u001b[1;33m)\u001b[0m\u001b[1;33m\u001b[0m\u001b[1;33m\u001b[0m\u001b[0m\n\u001b[0m\u001b[0;32m     14\u001b[0m \u001b[0mplt\u001b[0m\u001b[1;33m.\u001b[0m\u001b[0mplot\u001b[0m\u001b[1;33m(\u001b[0m\u001b[0mx\u001b[0m\u001b[1;33m,\u001b[0m\u001b[0mY1\u001b[0m\u001b[1;33m)\u001b[0m\u001b[1;33m\u001b[0m\u001b[1;33m\u001b[0m\u001b[0m\n\u001b[0;32m     15\u001b[0m \u001b[0mplt\u001b[0m\u001b[1;33m.\u001b[0m\u001b[0mshow\u001b[0m\u001b[1;33m(\u001b[0m\u001b[1;33m)\u001b[0m\u001b[1;33m\u001b[0m\u001b[1;33m\u001b[0m\u001b[0m\n",
      "\u001b[1;31mTypeError\u001b[0m: F() missing 2 required positional arguments: 'm' and 'n'"
     ]
    }
   ],
   "source": [
    "import matplotlib.pyplot as plt\n",
    "import math\n",
    "m,n=71.1, 10.6367\n",
    "x=[i for i in range(100)]\n",
    "def F(x, m, n):\n",
    "    t1 = math.sqrt(2*math.pi)*n\n",
    "    t2 = (x-m)**2\n",
    "    t3 = 2*n**2\n",
    "    t4 = 1/t1\n",
    "    t5 = t2/t3\n",
    "    t6 = math.e**(-t5)\n",
    "    return 1/t1*t6\n",
    "Y1=list(map(F,x))\n",
    "plt.plot(x,Y1)\n",
    "plt.show()"
   ]
  },
  {
   "cell_type": "code",
   "execution_count": 9,
   "metadata": {},
   "outputs": [
    {
     "name": "stdout",
     "output_type": "stream",
     "text": [
      "runoob 说: 我 10 岁。\n"
     ]
    }
   ],
   "source": [
    "class people:\n",
    "    #定义基本属性\n",
    "    name = ''\n",
    "    age = 0\n",
    "    #定义私有属性,私有属性在类外部无法直接进行访问\n",
    "    __weight = 0\n",
    "    #定义构造方法\n",
    "    def __init__(self,n,a,w):\n",
    "        self.name = n\n",
    "        self.age = a\n",
    "        self.__weight = w\n",
    "    def speak(self):\n",
    "        print(\"%s 说: 我 %d 岁。\" %(self.name,self.age))\n",
    "# 实例化类\n",
    "p = people('runoob',10,30)\n",
    "p.speak()"
   ]
  },
  {
   "cell_type": "code",
   "execution_count": 1,
   "metadata": {},
   "outputs": [
    {
     "name": "stdout",
     "output_type": "stream",
     "text": [
      "Before the sorting, the list is: [82, 77, 90, 64, 3, 92, 8, 100, 59, 73, 55, 43, 10, 74, 52, 71, 68, 84, 76, 53, 45, 91, 70, 36, 35, 18, 29, 2, 69, 56, 40, 49, 88, 83, 41, 6, 85, 39, 7, 48, 95, 50, 37, 28, 54, 75, 67, 31, 12, 87, 72, 11, 13, 61, 25, 81, 65, 4, 99, 16, 89, 15, 14, 9, 44, 20, 86, 33, 30, 63, 93, 21, 5, 26, 57, 66, 60, 97, 22, 19, 24, 1, 47, 34, 17, 96, 78, 27, 94, 42, 46, 51, 23, 79, 62, 98, 58, 38, 32, 80] \n",
      "\n",
      "The base number is: 21\n",
      "\n",
      "After the sorting once, the list is: [82, 77, 90, 64, 3, 80, 8, 32, 59, 73, 55, 43, 10, 74, 52, 71, 68, 84, 76, 53, 45, 46, 70, 36, 35, 18, 29, 2, 69, 56, 40, 49, 88, 83, 41, 6, 85, 39, 7, 48, 38, 50, 37, 28, 54, 75, 67, 31, 12, 87, 72, 11, 13, 61, 25, 81, 65, 4, 58, 16, 89, 15, 14, 9, 44, 20, 86, 33, 30, 63, 62, 21, 5, 26, 57, 66, 60, 79, 22, 19, 24, 1, 47, 34, 17, 23, 78, 27, 51, 42, 94, 91, 96, 97, 93, 98, 99, 95, 100, 92] \n",
      "\n"
     ]
    }
   ],
   "source": [
    "import random\n",
    "ls = random.sample(range(1, 101), 100)\n",
    "print(\"Before the sorting, the list is: {} \\n\".format(ls))\n",
    "\n",
    "i, j = 0, 99\n",
    "base = random.randint(0,99)\n",
    "print(\"The base number is: {}\\n\".format(base))\n",
    "while(i<j):\n",
    "    while (ls[i]<=ls[base]):\n",
    "        i+=1\n",
    "    while (ls[j]>=ls[base]):\n",
    "        j-=1\n",
    "    ls[i], ls[j] = ls[j], ls[i]\n",
    "ls[i], ls[base] = ls[base], ls[i]\n",
    "print(\"After the sorting once, the list is: {} \\n\".format(ls))"
   ]
  },
  {
   "cell_type": "code",
   "execution_count": 14,
   "metadata": {},
   "outputs": [
    {
     "name": "stdout",
     "output_type": "stream",
     "text": [
      "(1, 1, 2)\n",
      "<class 'tuple'>\n",
      "4\n",
      "(1, 1, 2)\n",
      "<class 'tuple'>\n",
      "4\n",
      "(1, 2, 2)\n",
      "<class 'tuple'>\n",
      "5\n",
      "(1, 2, 2)\n",
      "<class 'tuple'>\n",
      "5\n"
     ]
    },
    {
     "data": {
      "text/plain": [
       "(1, 2, 2)"
      ]
     },
     "execution_count": 14,
     "metadata": {},
     "output_type": "execute_result"
    }
   ],
   "source": [
    "import itertools\n",
    "ls = [1,1,2,2]\n",
    "k=3\n",
    "max(sum(i) for i in itertools.combinations(ls,k) if sum(i)<=t)"
   ]
  }
 ],
 "metadata": {
  "kernelspec": {
   "display_name": "Python 3",
   "language": "python",
   "name": "python3"
  },
  "language_info": {
   "codemirror_mode": {
    "name": "ipython",
    "version": 3
   },
   "file_extension": ".py",
   "mimetype": "text/x-python",
   "name": "python",
   "nbconvert_exporter": "python",
   "pygments_lexer": "ipython3",
   "version": "3.7.4"
  }
 },
 "nbformat": 4,
 "nbformat_minor": 2
}
