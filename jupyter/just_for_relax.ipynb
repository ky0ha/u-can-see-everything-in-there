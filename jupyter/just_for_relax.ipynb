{
 "cells": [
  {
   "cell_type": "code",
   "execution_count": 4,
   "metadata": {},
   "outputs": [
    {
     "data": {
      "text/plain": [
       "[[nan, 'A', 'B', 'C', nan],\n",
       " ['a1', '1', '2', '3', 9.0],\n",
       " ['a2', '23', '24', '25', 8.0],\n",
       " ['a3', '33', '34', '35', 7.0]]"
      ]
     },
     "execution_count": 4,
     "metadata": {},
     "output_type": "execute_result"
    }
   ],
   "source": [
    "import pandas as pd\n",
    "\n",
    "fpath = \"C:/Users/25315/Desktop/新建文本文档 (2).csv\"\n",
    "f = pd.read_csv(fpath)\n",
    "f = f.reset_index(drop=True)\n",
    "f = f.values.tolist()\n",
    "f"
   ]
  },
  {
   "cell_type": "code",
   "execution_count": 6,
   "metadata": {},
   "outputs": [
    {
     "data": {
      "text/plain": [
       "[['a1', 1, 2, 3, 9], ['a2', 23, 24, 25, 8], ['a3', 33, 34, 35, 7]]"
      ]
     },
     "execution_count": 6,
     "metadata": {},
     "output_type": "execute_result"
    }
   ],
   "source": [
    "import pandas as pd\n",
    "\n",
    "fpath = \"C:/Users/25315/Desktop/新建文本文档 (2).csv\"\n",
    "f = pd.read_csv(fpath)\n",
    "f = f.reset_index(drop=True)\n",
    "f = f.values.tolist()\n",
    "f"
   ]
  },
  {
   "cell_type": "code",
   "execution_count": 7,
   "metadata": {},
   "outputs": [
    {
     "name": "stdout",
     "output_type": "stream",
     "text": [
      "ls is:[1, 2, 3]\n"
     ]
    }
   ],
   "source": [
    "ls1 = [1, 2, 3]\n",
    "print(\"ls is:{}\".format(ls1))"
   ]
  },
  {
   "cell_type": "code",
   "execution_count": null,
   "metadata": {},
   "outputs": [],
   "source": []
  }
 ],
 "metadata": {
  "kernelspec": {
   "display_name": "Python 3",
   "language": "python",
   "name": "python3"
  },
  "language_info": {
   "codemirror_mode": {
    "name": "ipython",
    "version": 3
   },
   "file_extension": ".py",
   "mimetype": "text/x-python",
   "name": "python",
   "nbconvert_exporter": "python",
   "pygments_lexer": "ipython3",
   "version": "3.7.4"
  }
 },
 "nbformat": 4,
 "nbformat_minor": 2
}
