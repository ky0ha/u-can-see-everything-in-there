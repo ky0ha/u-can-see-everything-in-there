{
 "cells": [
  {
   "cell_type": "code",
   "execution_count": 191,
   "metadata": {},
   "outputs": [],
   "source": [
    "class node(object):\n",
    "    def __init__(self, value=None, next=None):\n",
    "        self.value = value\n",
    "        self.next = next\n",
    "    \n",
    "    def __str__(self):\n",
    "        return f'{self.value}'\n",
    "    \n",
    "    def __repr__(self):\n",
    "        return self.__str__()\n",
    "    \n",
    "    def __eq__(self, __x: object): \n",
    "        if isinstance(__x, node):\n",
    "            return self.value==__x.value\n",
    "        else:\n",
    "            return self.value==__x\n",
    "        \n",
    "    def __ne__(self, __x: object):\n",
    "        if isinstance(__x, node):\n",
    "            return self.value!=__x.value\n",
    "        else:\n",
    "            return self.value!=__x\n",
    "        \n",
    "    def __lt__(self, __x: object):\n",
    "        if isinstance(__x, node):\n",
    "            return self.value<__x.value\n",
    "        else:\n",
    "            return self.value<__x\n",
    "        \n",
    "    def __le__(self, __x: object):\n",
    "        if isinstance(__x, node):\n",
    "            return self.value<=__x.value\n",
    "        else:\n",
    "            return self.value<=__x\n",
    "        \n",
    "    def __gt__(self, __x: object):\n",
    "        if isinstance(__x, node):\n",
    "            return self.value>__x.value\n",
    "        else:\n",
    "            return self.value>__x\n",
    "        \n",
    "    def __ge__(self, __x: object):\n",
    "        if isinstance(__x, node):\n",
    "            return self.value<=__x.value\n",
    "        else:\n",
    "            return self.value<=__x\n",
    "        \n",
    "\n",
    "class queue(object):\n",
    "    def __init__(self, value=None):\n",
    "        self.head = node()\n",
    "        self.length = 0\n",
    "        self._iter = self.head\n",
    "        if isinstance(value,  (list, tuple, set, map, range, queue)):\n",
    "            self.length = len(value)\n",
    "            current = self.head\n",
    "            for i in value:\n",
    "                current.next = node(i)\n",
    "                current = current.next\n",
    "        elif isinstance(value, (int, float, str)):\n",
    "            self.head.next = node(value)\n",
    "            self.length = 1\n",
    "        else:\n",
    "            raise ValueError(f\"{type(value)} is not able to creat queue\")\n",
    "    \n",
    "    def __iter__(self):\n",
    "        return self\n",
    "    \n",
    "    def __next__(self):\n",
    "        self._iter = self._iter.next\n",
    "        # print(f\"***{self._iter} ***{self._iter==None}\")\n",
    "        if self._iter==None:\n",
    "            self._iter = self.head\n",
    "            raise StopIteration\n",
    "        else:\n",
    "            return self._iter\n",
    "    \n",
    "    def append(self, value):\n",
    "        for i in self:\n",
    "            current = i\n",
    "        current.next = node(value)\n",
    "        self.length += 1\n",
    "    \n",
    "    def __getitem__(self, index):\n",
    "        current = self.head.next\n",
    "        for _ in range(index):\n",
    "            current = current.next\n",
    "        else:\n",
    "            return current\n",
    "    \n",
    "    def __delitem__(self, index):\n",
    "        front = self.head\n",
    "        current = self.head.next\n",
    "        for _ in range(index):\n",
    "            front = front.next\n",
    "            current = current.next\n",
    "        else:\n",
    "            front.next = current.next\n",
    "            del current\n",
    "            self.length -= 1\n",
    "    \n",
    "    def __contains__(self, key):\n",
    "        for i in self:\n",
    "            if i.value == key:\n",
    "                return True\n",
    "        else:\n",
    "            return False\n",
    "    \n",
    "    def __len__(self):\n",
    "        return self.length\n",
    "    \n",
    "    def __setitem__(self, index, value):\n",
    "        current = self.head.next\n",
    "        for _ in range(index):\n",
    "            current = current.next\n",
    "        current.value = value\n",
    "    \n",
    "    def __reversed__(self):\n",
    "        if self.head.next==None or self.head.next.next==None:\n",
    "            return self\n",
    "        pre = None\n",
    "        then = self.head.next\n",
    "        p = None\n",
    "        while then!=None:\n",
    "            p = then\n",
    "            then = then.next\n",
    "            p.next = pre\n",
    "            pre = p\n",
    "        self.head.next = pre\n",
    "        return self\n",
    "    \n",
    "    def __str__(self):\n",
    "        s = '['\n",
    "        for i in self:\n",
    "            s += f'{i.value}, '\n",
    "        s = s[:-2] + ']'\n",
    "        return s\n",
    "    \n",
    "    def __repr__(self):\n",
    "        return self.__str__()\n",
    "    \n",
    "    def copy(self):\n",
    "        return queue(self)\n",
    "    \n",
    "    def extend(self, value):\n",
    "        for i in self:\n",
    "            current = i\n",
    "        current.next = value.head.next\n",
    "    \n",
    "    def pop(self, index):\n",
    "        front = self.head\n",
    "        current = self.head.next\n",
    "        for _ in range(index):\n",
    "            front = front.next\n",
    "            current = current.next\n",
    "        else:\n",
    "            front.next = current.next\n",
    "            self.length -= 1\n",
    "            return current\n",
    "    \n",
    "    def index(self, key, start=0, end=None):\n",
    "        if end == None:\n",
    "            end = self.length\n",
    "        for index, value in enumerate(self):\n",
    "            # print(index, value)\n",
    "            if index>=end:\n",
    "                raise ValueError(f\"{key} is not in queue\")\n",
    "            # print(f\"{value, value} == {key} : {value.value==key} and {index}<={start}\")\n",
    "            if value.value==key and index>=start:\n",
    "                return index\n",
    "        else:\n",
    "            raise ValueError(f\"{key} is not in queue\")\n",
    "    \n",
    "    def count(self, key):\n",
    "        count = 0\n",
    "        for i in self:\n",
    "            if i.value==key:\n",
    "                count+=1\n",
    "        return count\n",
    "    \n",
    "    def insert(self, index, value):\n",
    "        if isinstance(value, (int, str, float)):\n",
    "            value = node(value, next=self[index])\n",
    "            self[index-1].next = value\n",
    "        else:\n",
    "            raise ValueError(\"type of insert value must in (int, str, float)\")\n",
    "    \n",
    "    def remove(self, key):\n",
    "        for index, value in enumerate(self):\n",
    "            if value.value == key:\n",
    "                del self[index]\n",
    "                return None\n",
    "        else:\n",
    "            raise ValueError(\"queue.remove(x): x not in queue\")\n",
    "    \n",
    "    def sort(self, key=None, reverse=False):\n",
    "        # 偷懒不想写\n",
    "        self.head = queue(sorted(self)).head\n",
    "        self._iter = self.head\n",
    "        return None\n"
   ]
  },
  {
   "cell_type": "code",
   "execution_count": 192,
   "metadata": {},
   "outputs": [],
   "source": [
    "q = queue([6, 4, 2, 7, 8, 1])"
   ]
  },
  {
   "cell_type": "code",
   "execution_count": 193,
   "metadata": {},
   "outputs": [],
   "source": [
    "q.sort()"
   ]
  },
  {
   "cell_type": "code",
   "execution_count": 179,
   "metadata": {},
   "outputs": [
    {
     "data": {
      "text/plain": [
       "[1, 2, 4, 6, 7, 8]"
      ]
     },
     "execution_count": 179,
     "metadata": {},
     "output_type": "execute_result"
    }
   ],
   "source": [
    "sorted(q)"
   ]
  },
  {
   "cell_type": "code",
   "execution_count": 194,
   "metadata": {},
   "outputs": [
    {
     "name": "stdout",
     "output_type": "stream",
     "text": [
      "[1, 2, 4, 6, 7, 8]\n"
     ]
    }
   ],
   "source": [
    "print(q)"
   ]
  },
  {
   "cell_type": "code",
   "execution_count": 195,
   "metadata": {},
   "outputs": [
    {
     "data": {
      "text/plain": [
       "[1, 2, 4, 6, 7, 8]"
      ]
     },
     "execution_count": 195,
     "metadata": {},
     "output_type": "execute_result"
    }
   ],
   "source": [
    "q"
   ]
  },
  {
   "cell_type": "code",
   "execution_count": 181,
   "metadata": {},
   "outputs": [
    {
     "data": {
      "text/plain": [
       "__main__.queue"
      ]
     },
     "execution_count": 181,
     "metadata": {},
     "output_type": "execute_result"
    }
   ],
   "source": [
    "type(q)"
   ]
  },
  {
   "cell_type": "code",
   "execution_count": null,
   "metadata": {},
   "outputs": [],
   "source": []
  }
 ],
 "metadata": {
  "interpreter": {
   "hash": "ec3b6344b8b3f6c3db1463248c46b8920f4fc68f6187e2c1e71f56a52299e245"
  },
  "kernelspec": {
   "display_name": "Python 3.7.0 ('base')",
   "language": "python",
   "name": "python3"
  },
  "language_info": {
   "codemirror_mode": {
    "name": "ipython",
    "version": 3
   },
   "file_extension": ".py",
   "mimetype": "text/x-python",
   "name": "python",
   "nbconvert_exporter": "python",
   "pygments_lexer": "ipython3",
   "version": "3.7.0"
  },
  "orig_nbformat": 4
 },
 "nbformat": 4,
 "nbformat_minor": 2
}
