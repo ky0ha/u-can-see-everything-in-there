{
 "cells": [
  {
   "cell_type": "code",
   "execution_count": 22,
   "metadata": {},
   "outputs": [
    {
     "name": "stdout",
     "output_type": "stream",
     "text": [
      "Parameter containing:\n",
      "tensor([[-0.7482]], requires_grad=True)\n",
      "Parameter containing:\n",
      "tensor([-0.6073], requires_grad=True)\n",
      "Parameter containing:\n",
      "tensor([[0.7169]], requires_grad=True)\n",
      "Parameter containing:\n",
      "tensor([-0.6757], requires_grad=True)\n",
      "tensor([-0.6757], grad_fn=<AddBackward0>)\n"
     ]
    }
   ],
   "source": [
    "import torch\n",
    "import torch.nn as nn\n",
    "import torch.functional as F\n",
    "\n",
    "class Net(nn.Module):\n",
    "    def __init__(self):\n",
    "        super().__init__()\n",
    "        self.hidden = nn.Linear(1, 1)\n",
    "        self.tanh = nn.Tanh()\n",
    "        self.predict = nn.Linear(1, 1)\n",
    "    \n",
    "    def forward(self, inputs):\n",
    "        out = self.hidden(inputs)\n",
    "        out = self.tanh(out)\n",
    "        out = self.predict(out)\n",
    "        return out\n",
    "\n",
    "net = Net()\n",
    "for i in net.parameters():\n",
    "    print(i)\n",
    "print(net(torch.tensor([1], dtype=torch.float32)))"
   ]
  },
  {
   "cell_type": "code",
   "execution_count": 18,
   "metadata": {},
   "outputs": [
    {
     "data": {
      "text/plain": [
       "(-0.9969, -0.1876, -0.9298000000000001)"
      ]
     },
     "execution_count": 18,
     "metadata": {},
     "output_type": "execute_result"
    }
   ],
   "source": [
    "(-0.7482-0.6073)*0.7169"
   ]
  },
  {
   "cell_type": "code",
   "execution_count": 19,
   "metadata": {},
   "outputs": [
    {
     "data": {
      "text/plain": [
       "0.35295618999999995"
      ]
     },
     "execution_count": 19,
     "metadata": {},
     "output_type": "execute_result"
    }
   ],
   "source": [
    "-0.9969*0.5119+0.1876*0.2116+0.3793*0.9298+0.4709"
   ]
  },
  {
   "cell_type": "code",
   "execution_count": 20,
   "metadata": {},
   "outputs": [
    {
     "name": "stdout",
     "output_type": "stream",
     "text": [
      "Parameter containing:\n",
      "tensor([[-0.0195,  0.5427,  0.1678]], requires_grad=True)\n",
      "Parameter containing:\n",
      "tensor([-0.5411], requires_grad=True)\n"
     ]
    },
    {
     "data": {
      "text/plain": [
       "tensor([0.9630], grad_fn=<AddBackward0>)"
      ]
     },
     "execution_count": 20,
     "metadata": {},
     "output_type": "execute_result"
    }
   ],
   "source": [
    "t = nn.Linear(3, 1)\n",
    "for i in t.parameters():\n",
    "    print(i)\n",
    "t(torch.tensor([1.5, 2.3, 1.7]))"
   ]
  },
  {
   "cell_type": "code",
   "execution_count": 21,
   "metadata": {},
   "outputs": [
    {
     "data": {
      "text/plain": [
       "0.9631199999999999"
      ]
     },
     "execution_count": 21,
     "metadata": {},
     "output_type": "execute_result"
    }
   ],
   "source": [
    "-0.0195*1.5+0.5427*2.3+0.1678*1.7-0.5411"
   ]
  },
  {
   "cell_type": "code",
   "execution_count": null,
   "metadata": {},
   "outputs": [],
   "source": []
  }
 ],
 "metadata": {
  "kernelspec": {
   "display_name": "Python 3.7.0 ('base')",
   "language": "python",
   "name": "python3"
  },
  "language_info": {
   "codemirror_mode": {
    "name": "ipython",
    "version": 3
   },
   "file_extension": ".py",
   "mimetype": "text/x-python",
   "name": "python",
   "nbconvert_exporter": "python",
   "pygments_lexer": "ipython3",
   "version": "3.7.0"
  },
  "orig_nbformat": 4,
  "vscode": {
   "interpreter": {
    "hash": "ec3b6344b8b3f6c3db1463248c46b8920f4fc68f6187e2c1e71f56a52299e245"
   }
  }
 },
 "nbformat": 4,
 "nbformat_minor": 2
}
