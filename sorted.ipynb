{
 "cells": [
  {
   "cell_type": "markdown",
   "metadata": {},
   "source": [
    "## 顺序排序"
   ]
  },
  {
   "cell_type": "code",
   "execution_count": 7,
   "metadata": {},
   "outputs": [],
   "source": [
    "from random import randint\n",
    "array = [randint(1, 10**9) for _ in range(10**6)]"
   ]
  },
  {
   "cell_type": "code",
   "execution_count": 9,
   "metadata": {},
   "outputs": [
    {
     "ename": "KeyboardInterrupt",
     "evalue": "",
     "output_type": "error",
     "traceback": [
      "\u001b[1;31m---------------------------------------------------------------------------\u001b[0m",
      "\u001b[1;31mKeyboardInterrupt\u001b[0m                         Traceback (most recent call last)",
      "\u001b[1;32m<ipython-input-9-b8fb5888b180>\u001b[0m in \u001b[0;36m<module>\u001b[1;34m()\u001b[0m\n\u001b[0;32m      9\u001b[0m     \u001b[0mmin\u001b[0m\u001b[1;33m,\u001b[0m \u001b[0mmax\u001b[0m \u001b[1;33m=\u001b[0m \u001b[0mleft\u001b[0m\u001b[1;33m,\u001b[0m \u001b[0mright\u001b[0m\u001b[1;33m\u001b[0m\u001b[0m\n\u001b[0;32m     10\u001b[0m     \u001b[1;32mfor\u001b[0m \u001b[0mi\u001b[0m \u001b[1;32min\u001b[0m \u001b[0mrange\u001b[0m\u001b[1;33m(\u001b[0m\u001b[0mleft\u001b[0m\u001b[1;33m,\u001b[0m \u001b[0mright\u001b[0m\u001b[1;33m+\u001b[0m\u001b[1;36m1\u001b[0m\u001b[1;33m)\u001b[0m\u001b[1;33m:\u001b[0m\u001b[1;33m\u001b[0m\u001b[0m\n\u001b[1;32m---> 11\u001b[1;33m         \u001b[1;32mif\u001b[0m \u001b[0marray\u001b[0m\u001b[1;33m[\u001b[0m\u001b[0mi\u001b[0m\u001b[1;33m]\u001b[0m\u001b[1;33m<\u001b[0m\u001b[0marray\u001b[0m\u001b[1;33m[\u001b[0m\u001b[0mmin\u001b[0m\u001b[1;33m]\u001b[0m\u001b[1;33m:\u001b[0m\u001b[1;33m\u001b[0m\u001b[0m\n\u001b[0m\u001b[0;32m     12\u001b[0m             \u001b[0mmin\u001b[0m \u001b[1;33m=\u001b[0m \u001b[0mi\u001b[0m\u001b[1;33m\u001b[0m\u001b[0m\n\u001b[0;32m     13\u001b[0m         \u001b[1;32mif\u001b[0m \u001b[0marray\u001b[0m\u001b[1;33m[\u001b[0m\u001b[0mi\u001b[0m\u001b[1;33m]\u001b[0m\u001b[1;33m>\u001b[0m\u001b[0marray\u001b[0m\u001b[1;33m[\u001b[0m\u001b[0mmax\u001b[0m\u001b[1;33m]\u001b[0m\u001b[1;33m:\u001b[0m\u001b[1;33m\u001b[0m\u001b[0m\n",
      "\u001b[1;31mKeyboardInterrupt\u001b[0m: "
     ]
    }
   ],
   "source": [
    "import time\n",
    "\n",
    "# array = [randint(1, 10**9) for _ in range(10**6)]\n",
    "\n",
    "start = time.perf_counter()\n",
    "\n",
    "left, right = 0, len(array)-1\n",
    "while left<right:\n",
    "    min, max = left, right\n",
    "    for i in range(left, right+1):\n",
    "        if array[i]<array[min]:\n",
    "            min = i\n",
    "        if array[i]>array[max]:\n",
    "            max = i\n",
    "    \n",
    "    if array[min]<array[left]:\n",
    "        array[min], array[left] = array[left], array[min]\n",
    "    if max==left:\n",
    "        max = min\n",
    "    if array[max]>array[right]:\n",
    "        array[max], array[right] = array[right], array[max]\n",
    "    \n",
    "    right-=1\n",
    "    left+=1\n",
    "\n",
    "end = time.perf_counter()\n",
    "\n",
    "print(f\"排序耗时：{end-start}\")\n"
   ]
  },
  {
   "cell_type": "markdown",
   "metadata": {},
   "source": [
    "## 快速排序"
   ]
  },
  {
   "cell_type": "code",
   "execution_count": 8,
   "metadata": {},
   "outputs": [
    {
     "name": "stdout",
     "output_type": "stream",
     "text": [
      "排序耗时：11.030077500000004\n"
     ]
    }
   ],
   "source": [
    "def loacl_sort(l, a, n):\n",
    "    basic = n\n",
    "    i, j = a, n\n",
    "    while i!=j:\n",
    "        while l[i]<=l[basic] and i!=j:\n",
    "            i+=1\n",
    "        while l[j]>=l[basic] and i!=j:\n",
    "            j-=1\n",
    "        if i!=j:\n",
    "            l[i], l[j] = l[j], l[i]\n",
    "        else:\n",
    "            break\n",
    "    \n",
    "    l[i], l[basic] = l[basic], l[i]\n",
    "    basic = i\n",
    "    return basic\n",
    "\n",
    "def quick_sort(l, a, n):\n",
    "    if a<n:\n",
    "        if n-a<=100:\n",
    "            left, right = a, n\n",
    "            while left<right:\n",
    "                min, max = left, right\n",
    "                for i in range(left, right+1):\n",
    "                    if array[i]<array[min]:\n",
    "                        min = i\n",
    "                    if array[i]>array[max]:\n",
    "                        max = i\n",
    "                \n",
    "                if array[min]<array[left]:\n",
    "                    array[min], array[left] = array[left], array[min]\n",
    "                if max==left:\n",
    "                    max = min\n",
    "                if array[max]>array[right]:\n",
    "                    array[max], array[right] = array[right], array[max]\n",
    "                \n",
    "                right-=1\n",
    "                left+=1\n",
    "        else:\n",
    "            pi = loacl_sort(l, a, n)\n",
    "\n",
    "            quick_sort(l, a, pi-1)\n",
    "            quick_sort(l, pi+1, n)\n",
    "\n",
    "import time\n",
    "\n",
    "# array = [randint(1, 10**9) for _ in range(10**3)]\n",
    "\n",
    "start = time.perf_counter()\n",
    "quick_sort(array, 0, len(array)-1)\n",
    "end = time.perf_counter()\n",
    "\n",
    "print(f\"排序耗时：{end-start}\")\n"
   ]
  },
  {
   "cell_type": "code",
   "execution_count": null,
   "metadata": {},
   "outputs": [],
   "source": []
  }
 ],
 "metadata": {
  "kernelspec": {
   "display_name": "Python 3.7.0 ('base')",
   "language": "python",
   "name": "python3"
  },
  "language_info": {
   "codemirror_mode": {
    "name": "ipython",
    "version": 3
   },
   "file_extension": ".py",
   "mimetype": "text/x-python",
   "name": "python",
   "nbconvert_exporter": "python",
   "pygments_lexer": "ipython3",
   "version": "3.7.0"
  },
  "orig_nbformat": 4,
  "vscode": {
   "interpreter": {
    "hash": "ec3b6344b8b3f6c3db1463248c46b8920f4fc68f6187e2c1e71f56a52299e245"
   }
  }
 },
 "nbformat": 4,
 "nbformat_minor": 2
}
