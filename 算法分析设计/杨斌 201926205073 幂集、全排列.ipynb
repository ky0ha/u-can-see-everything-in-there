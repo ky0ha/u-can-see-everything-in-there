{
 "cells": [
  {
   "cell_type": "code",
   "execution_count": null,
   "metadata": {},
   "outputs": [],
   "source": [
    "1 2 3 4\n",
    "\n",
    "0 0 0 0     {}\n",
    "0 0 0 1     4\n",
    "0 0 1 0     3\n",
    "0 0 1 1     3 4\n",
    "0 1 0 0     2\n",
    "0 1 0 1     2 4\n",
    "0 1 1 0     2 3\n",
    "0 1 1 1     2 3 4\n",
    "1 0 0 0     1\n",
    "1 0 0 1     1 4\n",
    "1 0 1 0     1 3\n",
    "1 0 1 1     1 3 4\n",
    "1 1 0 0     1 2\n",
    "1 1 0 1     1 2 4\n",
    "1 1 1 0     1 2 3\n",
    "1 1 1 1     1 2 3 4"
   ]
  },
  {
   "cell_type": "code",
   "execution_count": 15,
   "metadata": {},
   "outputs": [
    {
     "name": "stdout",
     "output_type": "stream",
     "text": [
      "()\n",
      "(1,)\n",
      "(2,)\n",
      "(3,)\n",
      "(4,)\n",
      "(1, 2)\n",
      "(1, 3)\n",
      "(1, 4)\n",
      "(2, 3)\n",
      "(2, 4)\n",
      "(3, 4)\n",
      "(1, 2, 3)\n",
      "(1, 2, 4)\n",
      "(1, 3, 4)\n",
      "(2, 3, 4)\n",
      "(1, 2, 3, 4)\n"
     ]
    }
   ],
   "source": [
    "from itertools import combinations\n",
    "\n",
    "l = [1, 2, 3, 4]\n",
    "for i in range(len(l)+1):\n",
    "    print(\"\\n\".join(str(j) for j in combinations(l, i)))"
   ]
  },
  {
   "cell_type": "code",
   "execution_count": 2,
   "metadata": {},
   "outputs": [],
   "source": [
    "from itertools import permutations\n",
    "\n",
    "l = [1, 2, 3]\n",
    "for i in permutations(l, 4):\n",
    "    print(i)"
   ]
  },
  {
   "cell_type": "code",
   "execution_count": 25,
   "metadata": {},
   "outputs": [
    {
     "name": "stdout",
     "output_type": "stream",
     "text": [
      "[]\n",
      "[1]\n",
      "[2]\n",
      "[1, 2]\n",
      "[3]\n",
      "[1, 3]\n",
      "[2, 3]\n",
      "[1, 2, 3]\n",
      "[4]\n",
      "[1, 4]\n",
      "[2, 4]\n",
      "[1, 2, 4]\n",
      "[3, 4]\n",
      "[1, 3, 4]\n",
      "[2, 3, 4]\n",
      "[1, 2, 3, 4]\n"
     ]
    }
   ],
   "source": [
    "from math import log, ceil\n",
    "\n",
    "l = [1, 2, 3, 4]\n",
    "ret = []\n",
    "n = len(l)\n",
    "for s in range(1 << n):\n",
    "    cur = []\n",
    "    for i in range(n):\n",
    "        if s & (1 << i):\n",
    "            cur.append(l[i])\n",
    "    ret.append(cur)\n",
    "print(\"\\n\".join(str(i) for i in ret))"
   ]
  },
  {
   "cell_type": "code",
   "execution_count": 7,
   "metadata": {},
   "outputs": [
    {
     "name": "stdout",
     "output_type": "stream",
     "text": [
      "[]\n"
     ]
    }
   ],
   "source": [
    "# 用一个全局变量记录每次递归得到的结果\n",
    "All_permutation = []\n",
    "\n",
    "\n",
    "# 递归函数,arr表示当前的排列,如[1,2,3,4],next表示当前排列中前next个数已经确定,需要从next+1的位置开始交换\n",
    "# 注意列表下标从0开始,next表示的是下标\n",
    "# 如next=1时,说明第一个数确定为1,然后从第二个数开始直到列表的结尾,每个数都要与第二个数进行一次交换\n",
    "def allPermutation(arr, next):\n",
    "    # 当next=len(arr)-1时,此时只剩下一个数要排列,直接就是结果\n",
    "    if next == len(arr) - 1:\n",
    "        # global All_permutation\n",
    "        # All_permutation.append(arr)\n",
    "        yield arr\n",
    "    else:\n",
    "        # 从第next+1个数开始,每个数与第next+1的数进行一次交换(包括自己)\n",
    "        for i in range(next, len(arr)):\n",
    "            # 深拷贝,避免影响到原来的排列情况\n",
    "            # update_permutation = copy.deepcopy(arr)\n",
    "            update_permutation = arr.copy()\n",
    "            update_permutation[i], update_permutation[next] = update_permutation[next], update_permutation[i]\n",
    "            allPermutation(update_permutation, next + 1)\n",
    "\n",
    "\n",
    "allPermutation([1, 2, 3, 4], 0)\n",
    "print(All_permutation)"
   ]
  },
  {
   "cell_type": "code",
   "execution_count": 1,
   "metadata": {},
   "outputs": [
    {
     "name": "stdout",
     "output_type": "stream",
     "text": [
      "(0, 1, 2)\n",
      "(0, 1, 3)\n",
      "(0, 2, 1)\n",
      "(0, 2, 3)\n",
      "(0, 3, 1)\n",
      "(0, 3, 2)\n",
      "(1, 0, 2)\n",
      "(1, 0, 3)\n",
      "(1, 2, 0)\n",
      "(1, 2, 3)\n",
      "(1, 3, 0)\n",
      "(1, 3, 2)\n",
      "(2, 0, 1)\n",
      "(2, 0, 3)\n",
      "(2, 1, 0)\n",
      "(2, 1, 3)\n",
      "(2, 3, 0)\n",
      "(2, 3, 1)\n",
      "(3, 0, 1)\n",
      "(3, 0, 2)\n",
      "(3, 1, 0)\n",
      "(3, 1, 2)\n",
      "(3, 2, 0)\n",
      "(3, 2, 1)\n",
      "(3, 2, 1)\n",
      "(0, 1, 2)\n",
      "(0, 1, 3)\n",
      "(0, 2, 3)\n",
      "(1, 2, 3)\n"
     ]
    }
   ],
   "source": [
    "from itertools import permutations, combinations\n",
    "\n",
    "for i in permutations(range(4), 3):\n",
    "    print(i)\n",
    "print(i)\n",
    "for i in combinations(range(4), 3):\n",
    "    print(i)"
   ]
  }
 ],
 "metadata": {
  "kernelspec": {
   "display_name": "Python 3.7.0 ('base')",
   "language": "python",
   "name": "python3"
  },
  "language_info": {
   "codemirror_mode": {
    "name": "ipython",
    "version": 3
   },
   "file_extension": ".py",
   "mimetype": "text/x-python",
   "name": "python",
   "nbconvert_exporter": "python",
   "pygments_lexer": "ipython3",
   "version": "3.7.0"
  },
  "orig_nbformat": 4,
  "vscode": {
   "interpreter": {
    "hash": "ec3b6344b8b3f6c3db1463248c46b8920f4fc68f6187e2c1e71f56a52299e245"
   }
  }
 },
 "nbformat": 4,
 "nbformat_minor": 2
}
