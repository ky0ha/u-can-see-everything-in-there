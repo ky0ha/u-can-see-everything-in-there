{
 "cells": [
  {
   "cell_type": "markdown",
   "metadata": {},
   "source": [
    "介绍了 pytorch 的构建方法、加法、view 改变大小的方法、索引方法、item 取值"
   ]
  },
  {
   "cell_type": "markdown",
   "metadata": {},
   "source": [
    "pytorch 张量的构建"
   ]
  },
  {
   "cell_type": "code",
   "execution_count": 1,
   "metadata": {},
   "outputs": [],
   "source": [
    "import torch"
   ]
  },
  {
   "cell_type": "code",
   "execution_count": 2,
   "metadata": {},
   "outputs": [],
   "source": [
    "import torchvision"
   ]
  },
  {
   "cell_type": "code",
   "execution_count": 3,
   "metadata": {},
   "outputs": [
    {
     "name": "stdout",
     "output_type": "stream",
     "text": [
      "<module 'torch' from 'f:\\\\anaconda\\\\lib\\\\site-packages\\\\torch\\\\__init__.py'>\n"
     ]
    }
   ],
   "source": [
    "print(torch)"
   ]
  },
  {
   "cell_type": "code",
   "execution_count": 4,
   "metadata": {},
   "outputs": [
    {
     "name": "stdout",
     "output_type": "stream",
     "text": [
      "tensor([[0.2878, 0.7698, 0.6038],\n",
      "        [0.7007, 0.9733, 0.0867],\n",
      "        [0.3182, 0.8340, 0.5938],\n",
      "        [0.6586, 0.6584, 0.4347],\n",
      "        [0.4399, 0.9010, 0.2475]])\n"
     ]
    }
   ],
   "source": [
    "import torch\n",
    "x = torch.rand(5, 3)\n",
    "print(x)"
   ]
  },
  {
   "cell_type": "code",
   "execution_count": 15,
   "metadata": {},
   "outputs": [
    {
     "name": "stdout",
     "output_type": "stream",
     "text": [
      "tensor([[9.2755e-39, 1.0194e-38, 9.9184e-39],\n",
      "        [7.8980e-39, 8.4490e-39, 1.1112e-38],\n",
      "        [9.5511e-39, 1.0102e-38, 1.0286e-38],\n",
      "        [1.0653e-38, 1.0469e-38, 9.5510e-39],\n",
      "        [3.8572e-39, 3.8572e-39,        nan]])\n",
      "tensor([[0.7411, 0.9281, 0.6263],\n",
      "        [0.0299, 0.1560, 0.2303],\n",
      "        [0.4472, 0.3257, 0.0084],\n",
      "        [0.8446, 0.8001, 0.6145],\n",
      "        [0.3392, 0.1423, 0.7590]])\n",
      "tensor([[0, 0, 0],\n",
      "        [0, 0, 0],\n",
      "        [0, 0, 0],\n",
      "        [0, 0, 0],\n",
      "        [0, 0, 0]])\n",
      "tensor([5.5000, 3.0000])\n"
     ]
    }
   ],
   "source": [
    "x = torch.empty(5, 3)   # 构造空矩阵 5x3，不初始化\n",
    "print(x)\n",
    "x = torch.rand(5, 3)    # 构造随机初始化的 5x3 矩阵\n",
    "print(x)\n",
    "x = torch.zeros(5, 3, dtype=torch.long) # 构造 5x3 矩阵，0 初始化，并自定义数据类型\n",
    "print(x)\n",
    "x = torch.tensor([5.5, 3])  # 直接使用数据构造张量\n",
    "print(x)"
   ]
  },
  {
   "cell_type": "code",
   "execution_count": 14,
   "metadata": {},
   "outputs": [
    {
     "name": "stdout",
     "output_type": "stream",
     "text": [
      "80\n",
      "80\n"
     ]
    }
   ],
   "source": [
    "from sys import getsizeof\n",
    "print(getsizeof(x))\n",
    "x = torch.zeros(5, 3, dtype=torch.int8)\n",
    "print(getsizeof(x))"
   ]
  },
  {
   "cell_type": "code",
   "execution_count": 17,
   "metadata": {},
   "outputs": [
    {
     "name": "stdout",
     "output_type": "stream",
     "text": [
      "tensor([[1., 1., 1.],\n",
      "        [1., 1., 1.],\n",
      "        [1., 1., 1.],\n",
      "        [1., 1., 1.],\n",
      "        [1., 1., 1.]], dtype=torch.float64)\n",
      "tensor([[ 0.1804,  1.0565,  0.5775],\n",
      "        [ 1.0293,  0.1222,  1.1320],\n",
      "        [ 1.0361, -0.1865,  0.8912],\n",
      "        [ 0.1746,  1.1628,  1.4601],\n",
      "        [-0.4672, -0.7771, -1.2880]])\n",
      "torch.Size([5, 3])\n"
     ]
    }
   ],
   "source": [
    "# 基于已存在的 tensor 创建一个 tensor\n",
    "x = x.new_ones(5, 3, dtype=torch.double)\n",
    "print(x)\n",
    "x = torch.randn_like(x, dtype=torch.float)  # 重载了 dtype\n",
    "print(x) # 创建的结果具有和原先的 tensor 相同的 size\n",
    "print(x.size())"
   ]
  },
  {
   "cell_type": "code",
   "execution_count": 21,
   "metadata": {},
   "outputs": [
    {
     "name": "stdout",
     "output_type": "stream",
     "text": [
      "tensor([[ 0.1896,  1.5046,  0.9779],\n",
      "        [ 1.6791,  0.5293,  1.9286],\n",
      "        [ 1.7991, -0.0362,  1.7622],\n",
      "        [ 0.8700,  1.3012,  2.2127],\n",
      "        [ 0.1813, -0.1459, -0.3175]])\n",
      "tensor([[ 0.1896,  1.5046,  0.9779],\n",
      "        [ 1.6791,  0.5293,  1.9286],\n",
      "        [ 1.7991, -0.0362,  1.7622],\n",
      "        [ 0.8700,  1.3012,  2.2127],\n",
      "        [ 0.1813, -0.1459, -0.3175]])\n",
      "tensor([[ 0.1896,  1.5046,  0.9779],\n",
      "        [ 1.6791,  0.5293,  1.9286],\n",
      "        [ 1.7991, -0.0362,  1.7622],\n",
      "        [ 0.8700,  1.3012,  2.2127],\n",
      "        [ 0.1813, -0.1459, -0.3175]])\n",
      "tensor([[ 0.1896,  1.5046,  0.9779],\n",
      "        [ 1.6791,  0.5293,  1.9286],\n",
      "        [ 1.7991, -0.0362,  1.7622],\n",
      "        [ 0.8700,  1.3012,  2.2127],\n",
      "        [ 0.1813, -0.1459, -0.3175]])\n"
     ]
    }
   ],
   "source": [
    "y = torch.rand(5, 3)\n",
    "print(x+y)\n",
    "print(torch.add(x, y))\n",
    "# add 加法函数支持设置输出的目标\n",
    "result = torch.empty(5, 3)\n",
    "torch.add(x, y, out=result)\n",
    "print(result)\n",
    "# 使用 tensor 对象的方法\n",
    "y.add_(x)   # :y = y+x\n",
    "print(y)"
   ]
  },
  {
   "cell_type": "code",
   "execution_count": 22,
   "metadata": {},
   "outputs": [
    {
     "name": "stdout",
     "output_type": "stream",
     "text": [
      "tensor([ 1.0565,  0.1222, -0.1865,  1.1628, -0.7771])\n"
     ]
    }
   ],
   "source": [
    "# tensor 支持类 numpy 的索引方式\n",
    "print(x[:, 1])  \n",
    "# x 的第二列，便于理解方式是，[列, 行]\n",
    "# 样例中列取了全部，行取了第二个值，也就是所有行中的第二个值"
   ]
  },
  {
   "cell_type": "code",
   "execution_count": 23,
   "metadata": {},
   "outputs": [
    {
     "name": "stdout",
     "output_type": "stream",
     "text": [
      "torch.Size([4, 4]) torch.Size([16]) torch.Size([2, 8])\n"
     ]
    }
   ],
   "source": [
    "# view 可以改变一个 tensor 的 size 和 shape\n",
    "x = torch.rand(4, 4)\n",
    "y = x.view(16)\n",
    "z = x.view(-1, 8)   # -1 表示根据其他维度的设置来自适应大小\n",
    "# 样例中当设置 -1 列 8 行的情况，原本的 16 个数据会自动变成 2 列 8 行\n",
    "# 当自适应的值不为一个整数的时候，会报错，比如 x.view(-1, 3) \n",
    "# RuntimeError: shape '[-1, 3]' is invalid for input of size 16\n",
    "print(x.size(), y.size(), z.size())"
   ]
  },
  {
   "cell_type": "code",
   "execution_count": 26,
   "metadata": {},
   "outputs": [
    {
     "name": "stdout",
     "output_type": "stream",
     "text": [
      "0.3582979440689087\n"
     ]
    }
   ],
   "source": [
    "# 如果 tensor 只有一个元素的时候，可以使用 tensor.item() 来获取这个元素的值\n",
    "x = torch.rand(1)\n",
    "print(x.item())\n",
    "# 当 tensor 不止一个元素的时候，会报错\n",
    "# ValueError: only one element tensors can be converted to Python scalars"
   ]
  },
  {
   "cell_type": "code",
   "execution_count": null,
   "metadata": {},
   "outputs": [],
   "source": []
  }
 ],
 "metadata": {
  "interpreter": {
   "hash": "ec3b6344b8b3f6c3db1463248c46b8920f4fc68f6187e2c1e71f56a52299e245"
  },
  "kernelspec": {
   "display_name": "Python 3.7.0 ('base')",
   "language": "python",
   "name": "python3"
  },
  "language_info": {
   "codemirror_mode": {
    "name": "ipython",
    "version": 3
   },
   "file_extension": ".py",
   "mimetype": "text/x-python",
   "name": "python",
   "nbconvert_exporter": "python",
   "pygments_lexer": "ipython3",
   "version": "3.7.0"
  },
  "orig_nbformat": 4
 },
 "nbformat": 4,
 "nbformat_minor": 2
}
