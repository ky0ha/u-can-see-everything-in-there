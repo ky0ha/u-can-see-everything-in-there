{
 "cells": [
  {
   "cell_type": "code",
   "execution_count": 35,
   "metadata": {},
   "outputs": [],
   "source": [
    "'''\n",
    "bp网络的构建部分以及优化器和损失函数\n",
    "* 优化器：动态SGD\n",
    "* 损失函数 MSE均方误差\n",
    "'''\n",
    "\n",
    "import torch\n",
    "import torch.nn as nn\n",
    "import torch.nn.functional as F\n",
    "import torch.optim as optim\n",
    "\n",
    "tanh = nn.Tanh()\n",
    "\n",
    "class Net(nn.Module):\n",
    "    def __init__(self):\n",
    "        super(Net, self).__init__()\n",
    "        self.hidden = nn.Linear(1, 10)\n",
    "        self.predict = nn.Linear(10, 1)\n",
    "    def forward(self, input):\n",
    "        # print(input)\n",
    "        out = self.hidden(input)\n",
    "        out = tanh(out)\n",
    "        out = self.predict(out)\n",
    "        return out\n",
    "\n",
    "net = Net()\n",
    "\n",
    "criterion=nn.MSELoss()\n",
    "optimizer=optim.SGD(net.parameters(),lr=0.001,momentum=0.9)"
   ]
  },
  {
   "cell_type": "code",
   "execution_count": 2,
   "metadata": {},
   "outputs": [],
   "source": [
    "'''\n",
    "数据集生成部分\n",
    "'''\n",
    "\n",
    "import torch\n",
    "\n",
    "origin = torch.randn((10000, 1))\n",
    "result = torch.sin(origin)\n",
    "\n",
    "# print(origin, result)"
   ]
  },
  {
   "cell_type": "code",
   "execution_count": 37,
   "metadata": {},
   "outputs": [
    {
     "name": "stdout",
     "output_type": "stream",
     "text": [
      "[1,  2000] loss 0.022\n",
      "[1,  4000] loss 0.007\n",
      "[1,  6000] loss 0.006\n",
      "[1,  8000] loss 0.003\n",
      "[1, 10000] loss 0.004\n",
      "[2,  2000] loss 0.002\n",
      "[2,  4000] loss 0.002\n",
      "[2,  6000] loss 0.003\n",
      "[2,  8000] loss 0.002\n",
      "[2, 10000] loss 0.002\n",
      "Finished Training\n"
     ]
    }
   ],
   "source": [
    "'''\n",
    "训练部分，对数据集循环利用两次，进行训练\n",
    "'''\n",
    "\n",
    "for epoch in range(2):  # 在数据集上多次循环\n",
    "    running_loss = 0.0\n",
    "    for i, data in enumerate(origin, 0):\n",
    "        # 获取输入\n",
    "        inputs, labels = data, result[i]\n",
    "        \n",
    "        # 清零梯度\n",
    "        optimizer.zero_grad()\n",
    "        \n",
    "        # 前向传播、反向传播、优化\n",
    "        outputs = net(inputs)\n",
    "        loss = criterion(outputs, labels)\n",
    "        loss.backward()\n",
    "        optimizer.step()\n",
    "        \n",
    "        # 输出统计数据\n",
    "        running_loss += loss.item()\n",
    "        if i%2000 == 1999:  # 分区打印，每个小区是 2000 个数据\n",
    "            # print('[%d, %5d] loss: %.3f' % (epoch+1, i+1, running_loss/2000))\n",
    "            print(f'[{epoch+1}, {i+1:5d}] loss {running_loss/2000:.3f}')\n",
    "            running_loss = 0.0\n",
    "\n",
    "print('Finished Training')"
   ]
  },
  {
   "cell_type": "code",
   "execution_count": 1,
   "metadata": {},
   "outputs": [
    {
     "data": {
      "text/plain": [
       "<Figure size 640x480 with 1 Axes>"
      ]
     },
     "metadata": {},
     "output_type": "display_data"
    }
   ],
   "source": [
    "import matplotlib.pyplot as plt\n",
    "import numpy as np\n",
    "\n",
    "xpoints = np.array([0, 6])\n",
    "ypoints = np.array([0, 100])\n",
    "\n",
    "plt.plot(xpoints, ypoints)\n",
    "plt.show()"
   ]
  },
  {
   "cell_type": "code",
   "execution_count": 3,
   "metadata": {},
   "outputs": [
    {
     "data": {
      "text/plain": [
       "tensor([[0.1980],\n",
       "        [0.3423],\n",
       "        [0.9428],\n",
       "        [0.3379],\n",
       "        [0.1487],\n",
       "        [0.2403],\n",
       "        [0.4398],\n",
       "        [0.2038],\n",
       "        [0.6275],\n",
       "        [0.7716]])"
      ]
     },
     "execution_count": 3,
     "metadata": {},
     "output_type": "execute_result"
    }
   ],
   "source": [
    "torch.rand((10, 1))"
   ]
  },
  {
   "cell_type": "code",
   "execution_count": 10,
   "metadata": {},
   "outputs": [
    {
     "data": {
      "text/plain": [
       "tensor([[0.0000],\n",
       "        [0.1000],\n",
       "        [0.2000],\n",
       "        [0.3000],\n",
       "        [0.4000],\n",
       "        [0.5000],\n",
       "        [0.6000],\n",
       "        [0.7000],\n",
       "        [0.8000],\n",
       "        [0.9000]])"
      ]
     },
     "execution_count": 10,
     "metadata": {},
     "output_type": "execute_result"
    }
   ],
   "source": [
    "torch.arange(0, 1, 0.1).view(-1, 1)"
   ]
  },
  {
   "cell_type": "code",
   "execution_count": null,
   "metadata": {},
   "outputs": [],
   "source": [
    "torch.strided"
   ]
  }
 ],
 "metadata": {
  "kernelspec": {
   "display_name": "Python 3.7.0 ('base')",
   "language": "python",
   "name": "python3"
  },
  "language_info": {
   "codemirror_mode": {
    "name": "ipython",
    "version": 3
   },
   "file_extension": ".py",
   "mimetype": "text/x-python",
   "name": "python",
   "nbconvert_exporter": "python",
   "pygments_lexer": "ipython3",
   "version": "3.7.0"
  },
  "orig_nbformat": 4,
  "vscode": {
   "interpreter": {
    "hash": "ec3b6344b8b3f6c3db1463248c46b8920f4fc68f6187e2c1e71f56a52299e245"
   }
  }
 },
 "nbformat": 4,
 "nbformat_minor": 2
}
