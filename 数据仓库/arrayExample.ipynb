{
 "cells": [
  {
   "cell_type": "code",
   "execution_count": null,
   "metadata": {},
   "outputs": [],
   "source": [
    "\n",
    "import numpy as np\n",
    "def 例1():\n",
    "    a = np.array([1, 2, 3, 4, 5])\n",
    "    print(f'a is: {a}')\n",
    "    print(f'type of a: {a.dtype}')\n",
    "    print(f'shape of a: {a.shape}')\n",
    "    print(f'dimensiion of a: {a.ndim}')\n",
    "    print(f'size of a: {a.size}')"
   ]
  },
  {
   "cell_type": "code",
   "execution_count": null,
   "metadata": {},
   "outputs": [],
   "source": [
    "def 例2():\n",
    "    # 超过短整型上限的数字在强制转换为短整型会被拆分（不要乱改dtype\n",
    "    a = np.array([1, 2, 3, 4, 45501])\n",
    "    print(f'a is: {a}')\n",
    "    print(f'type of a: {a.dtype}')\n",
    "    a.dtype = 'int16'\n",
    "    print(f'a is: {a}')\n",
    "    print(f'type of a: {a.dtype}')\n",
    "    print(f'shape of a: {a.shape}')\n",
    "    print(f'dimensiion of a: {a.ndim}')\n",
    "    print(f'size of a: {a.size}')"
   ]
  },
  {
   "cell_type": "code",
   "execution_count": null,
   "metadata": {},
   "outputs": [],
   "source": [
    "def 例3():\n",
    "    a = np.zeros(4)\n",
    "    print(a)\n",
    "    print(a.dtype)\n",
    "    print(a.shape)\n",
    "    print(a.ndim)\n",
    "    print(\"-----------------\")\n",
    "    b = np.zeros(4, dtype=np.int32)\n",
    "    print(b)\n",
    "    print(b.dtype)\n",
    "    print(\"-----------------\")\n",
    "    c = np.zeros((3, 3))"
   ]
  },
  {
   "cell_type": "code",
   "execution_count": null,
   "metadata": {},
   "outputs": [],
   "source": [
    "def 例4():\n",
    "    a = np.arange(0, 10, 1)\n",
    "    print(a)\n",
    "    a = np.linspace(0, 1, 10)\n",
    "    print(a)\n",
    "    print(a.size)\n",
    "    a = np.logspace(0, 9, 10)\n",
    "    print(a)\n",
    "    print(a.size)\n",
    "    print('---------------------')\n"
   ]
  },
  {
   "cell_type": "code",
   "execution_count": null,
   "metadata": {},
   "outputs": [],
   "source": [
    "def e5():\n",
    "    a = np.arange(3)\n",
    "    print(a)\n",
    "    a = np.arange(3.0)\n",
    "    print(a)\n",
    "    a = np.arange(3, 7, dtype=np.float32)\n",
    "    print(a)"
   ]
  },
  {
   "cell_type": "code",
   "execution_count": null,
   "metadata": {},
   "outputs": [],
   "source": [
    "def e6():\n",
    "    a = np.array([[1, 2, 3], [4, 5, 6], [7, 8, 9]])\n",
    "    print('数组a内容为：\\n', a)\n",
    "    print('指定索引结果：', a[1])\n",
    "    print('指定索引范围结果：', a[1:])\n",
    "    print('指定行列结果', a[0, 1:-1])\n",
    "    print('获取第二列元素', a[...,1])\n",
    "    print('')"
   ]
  },
  {
   "cell_type": "code",
   "execution_count": null,
   "metadata": {},
   "outputs": [],
   "source": [
    "def e7():\n",
    "    a = np.array([[3, 7, 5], [9, 1, 6]])\n",
    "    print('我们的数组是：')\n",
    "    print(a)\n",
    "    \n",
    "    print('调用 sort() 函数')\n",
    "    print(np.sort(a))\n",
    "    \n",
    "    print('按列排序：')\n",
    "    print(np.sort(a, axis=0))\n",
    "    print('按行排序：')\n",
    "    print(np.sort(a, axis=1))\n",
    "    \n",
    "    # 在 sort 函数中排序字段\n",
    "    dt = np.dtype([('name', 'S10'), ('age', int)])\n",
    "    a = np.array([('cat', 21), ('dog', 25), ('rat', 17), ('lion', 27)], dtype=dt)\n",
    "    print('我们的数组是：')\n",
    "    print(a)\n",
    "    \n",
    "    print('按 name 排序：')\n",
    "    print(np.sort(a, order='name'))\n",
    "    print('按 age 排序')\n",
    "    print(np.sort(a, order='age'))"
   ]
  },
  {
   "cell_type": "code",
   "execution_count": null,
   "metadata": {},
   "outputs": [],
   "source": [
    "def e8():\n",
    "    x = np.arange(12).reshape(4, 3)\n",
    "    print('我们的数组是：')\n",
    "    print(x)\n",
    "    print('\\n')\n",
    "    rows = np.array([[0, 0, 3, 3]])\n",
    "    cols = np.array([[0, 2, 0, 2]])\n",
    "    y = x[rows, cols]\n",
    "    print(rows, cols)\n",
    "    print(y)\n",
    "    \n",
    "    rows = np.array([[0, 0], [3, 3]])\n",
    "    cols = np.array([[0, 2], [0, 2]])\n",
    "    y = x[rows, cols]\n",
    "    print(rows)\n",
    "    print(cols)\n",
    "    print(y)\n",
    "    \n",
    "    print(x[x>5])\n",
    "    \n"
   ]
  },
  {
   "cell_type": "code",
   "execution_count": null,
   "metadata": {},
   "outputs": [],
   "source": [
    "def e9():\n",
    "    import matplotlib.pyplot as plt\n",
    "    x = np.linspace(0, 5, 50)\n",
    "    y = np.linspace(0, 5, 50)[:, np.newaxis]\n",
    "    # z = np.sin(x) ** 10 + np.cos(10 + y*x) * np.cos(x)\n",
    "    z = x**3 + 2*x*y + (y-1)**2\n",
    "    plt.imshow(z, origin='lower', extent=[0, 5, 0, 5], cmap='viridis')\n",
    "    plt.colorbar()\n",
    "    plt.show()"
   ]
  },
  {
   "cell_type": "code",
   "execution_count": null,
   "metadata": {},
   "outputs": [],
   "source": [
    "df1 = df.dropna()\n",
    "print(df1.values)\n",
    "df2 = df.fillna(0)\n",
    "df3 = df.fillna('KL')\n",
    "df4 = df.fillna({'a':0, 'b':'kl', 'c':0, 'd':0})"
   ]
  }
 ],
 "metadata": {
  "language_info": {
   "name": "python"
  },
  "orig_nbformat": 4
 },
 "nbformat": 4,
 "nbformat_minor": 2
}
