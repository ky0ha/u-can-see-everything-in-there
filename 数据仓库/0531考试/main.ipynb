{
 "cells": [
  {
   "cell_type": "code",
   "execution_count": 33,
   "metadata": {},
   "outputs": [
    {
     "name": "stdout",
     "output_type": "stream",
     "text": [
      "[[2.17207142 3.96361622 7.22679833 5.39640157 2.22361393]\n",
      " [5.64762852 6.52606715 7.67101343 2.73339216 6.45063272]\n",
      " [4.5687747  4.65521001 7.85523686 5.52051675 6.26023295]\n",
      " [6.62022874 4.71570349 7.36094242 5.88805794 7.57458869]\n",
      " [5.63837849 6.73737388 7.69422389 6.80266847 2.75500548]]\n",
      "\n",
      "*************************************\n",
      "\n",
      "min : 2.1720714184354595,  max : 7.855236862754654\n",
      "\n",
      "*************************************\n",
      "\n",
      "[[0.         0.31523714 0.88942104 0.56734758 0.00906933]\n",
      " [0.71896349 0.8307919  0.97654769 0.34797069 0.82118882]\n",
      " [0.58162151 0.59262503 1.         0.7027817  0.79695025]\n",
      " [0.8604154  0.61288878 0.9566842  0.7652569  0.9844513 ]\n",
      " [0.73280666 0.87564048 1.         0.88412666 0.35806152]]\n"
     ]
    }
   ],
   "source": [
    "import numpy as np\n",
    "n1 = np.random.uniform(2, 8, (5, 5))\n",
    "print(n1)\n",
    "print('\\n*************************************\\n')\n",
    "print(f'min : {np.min(n1)},  max : {np.max(n1)}')\n",
    "print('\\n*************************************\\n')\n",
    "def normalization(n1, _min, _max):\n",
    "    for key, value in enumerate(n1):\n",
    "        n1[key] = (value-_min) / (_max-_min)\n",
    "    return n1\n",
    "n2 = np.array([normalization(i, np.min(n1), np.max(n1)) for i in n1])\n",
    "print(n2)"
   ]
  },
  {
   "cell_type": "code",
   "execution_count": 93,
   "metadata": {},
   "outputs": [
    {
     "name": "stdout",
     "output_type": "stream",
     "text": [
      "         数量\n",
      "单位         \n",
      "体育学院      1\n",
      "先进材料研究院   3\n",
      "公费师范生院    2\n",
      "化学化工学院   11\n",
      "后勤公司      8\n"
     ]
    }
   ],
   "source": [
    "import pandas as pd\n",
    "\n",
    "path = r'C:\\Users\\25315\\Documents\\Tencent Files\\253157225\\FileRecv\\data.csv'\n",
    "\n",
    "data = pd.read_csv(path, encoding='ansi', header=None)\n",
    "data.columns = ['序号', '单位', '事由', '备注']\n",
    "# print(data.head(5))\n",
    "\n",
    "data.drop(['序号', '备注'], axis=1, inplace=True)\n",
    "# print(data.head(5))\n",
    "\n",
    "group = data.groupby(\"单位\")\n",
    "# print(group.head(5))\n",
    "gc = group.count()\n",
    "gc.columns = [\"数量\"]\n",
    "gc.sort_values(by=[\"数量\"], ascending=False)\n",
    "print(gc.head(5))"
   ]
  },
  {
   "cell_type": "code",
   "execution_count": 84,
   "metadata": {},
   "outputs": [
    {
     "data": {
      "image/png": "[encoded data removed]",
      "text/plain": [
       "<Figure size 432x288 with 1 Axes>"
      ]
     },
     "metadata": {
      "needs_background": "light"
     },
     "output_type": "display_data"
    }
   ],
   "source": [
    "import matplotlib.pyplot as plt\n",
    "\n",
    "figure, axes = plt.subplots()\n",
    "draw_circle = plt.Circle((1, 0), 1, fill=False)\n",
    "\n",
    "axes.set_xlim([-0.5, 2.5])\n",
    "axes.set_ylim([-1.5, 1.5])\n",
    "axes.set_aspect(1)\n",
    "axes.add_artist(draw_circle)\n",
    "plt.title('Circle')\n",
    "plt.show()"
   ]
  }
 ],
 "metadata": {
  "interpreter": {
   "hash": "ec3b6344b8b3f6c3db1463248c46b8920f4fc68f6187e2c1e71f56a52299e245"
  },
  "kernelspec": {
   "display_name": "Python 3.7.0 ('base')",
   "language": "python",
   "name": "python3"
  },
  "language_info": {
   "codemirror_mode": {
    "name": "ipython",
    "version": 3
   },
   "file_extension": ".py",
   "mimetype": "text/x-python",
   "name": "python",
   "nbconvert_exporter": "python",
   "pygments_lexer": "ipython3",
   "version": "3.7.0"
  },
  "orig_nbformat": 4
 },
 "nbformat": 4,
 "nbformat_minor": 2
}
