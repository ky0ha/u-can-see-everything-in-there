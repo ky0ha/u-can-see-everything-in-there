{
 "cells": [
  {
   "cell_type": "code",
   "execution_count": null,
   "metadata": {},
   "outputs": [],
   "source": [
    "from collections import namedtuple\n",
    "\n",
    "Student = namedtuple(\"Student\", [\"cno\", \"grade\", \"cname\"])\n",
    "\n",
    "class Class_name_list(object):\n",
    "    def __init__(self):\n",
    "        self.__classmate = []\n",
    "        self.__count = 0\n",
    "        self.heighest = None\n",
    "    \n",
    "    def add(self, cno, grade, cname):\n",
    "        student = Student(cno, grade, cname)\n",
    "        self.__classmate.append(student)\n",
    "        if self.heighest==None or student.grade>self.heighest.grade or (student.grade==self.heighest.grade and student.cno<self.heighest.cno):\n",
    "            self.heighest = student\n",
    "    \n",
    "    def find(self):\n",
    "        return \"NO STUDENTS\" if self.heighest==None else f\"{self.heighest.cname} {self.heighest.cno}\"\n",
    "    \n",
    "    def delete(self, cno):\n",
    "        for i, v in enumerate(self.__classmate):\n",
    "            if v.cno==cno:\n",
    "                del self.__classmate[i]\n",
    "        if self.heighest.cno==cno:\n",
    "            self.heighest = self.__classmate[0]  if self.__classmate else None\n",
    "            for i in self.__classmate:\n",
    "                if i.grade>self.heighest.grade or (i.grade==self.heighest.grade and i.cno<self.heighest.cno):\n",
    "                    self.heighest = i\n",
    "\n",
    "c = Class_name_list()\n",
    "for i in range(int(input())):\n",
    "    ins = input().split()\n",
    "    if ins[0]=='0':\n",
    "        print(c.find())\n",
    "    elif ins[0]=='1':\n",
    "        c.add(*ins[1:])\n",
    "    elif ins[0]=='2':\n",
    "        c.delete(ins[1])\n",
    "    else:\n",
    "        raise Exception(f\"Unknow command namde '{ins[0]}', only support '0', '1', '2'\")"
   ]
  },
  {
   "cell_type": "code",
   "execution_count": null,
   "metadata": {},
   "outputs": [],
   "source": [
    "# from collections import namedtuple\n",
    "\n",
    "# node = namedtuple(\"node\", ['value', 'next'])\n",
    "\n",
    "class node(object):\n",
    "    def __init__(self, value, next):\n",
    "        self.value = value\n",
    "        self.next = next\n",
    "\n",
    "head = node(-1, None)\n",
    "pre = head\n",
    "for i in range(1, 8):\n",
    "    pos = node(i, None)\n",
    "    pre.next = pos\n",
    "    pre = pos\n",
    "\n",
    "k = int(input())\n",
    "p = None if k==0 else head.next\n",
    "for i in range(k):\n",
    "    p = "
   ]
  },
  {
   "cell_type": "code",
   "execution_count": null,
   "metadata": {},
   "outputs": [],
   "source": [
    "p = head.next\n",
    "while p:\n",
    "    print(p.value)\n",
    "    p = p.next"
   ]
  },
  {
   "cell_type": "code",
   "execution_count": null,
   "metadata": {},
   "outputs": [],
   "source": [
    "n = int(input())\n",
    "\n",
    "def ct(n):\n",
    "    if n<=0:\n",
    "        return 0\n",
    "    count = 0\n",
    "    i = 1\n",
    "    while i<=n:\n",
    "        temp = i*10\n",
    "        count +=(n//temp)*i + min(max(n%temp-i+1, 0), i)\n",
    "        i *= 10\n",
    "    return count\n",
    "\n",
    "ct(n)"
   ]
  },
  {
   "cell_type": "code",
   "execution_count": null,
   "metadata": {},
   "outputs": [],
   "source": [
    "price_list = eval(input())\n",
    "left, right = 0, 1\n",
    "f_min, s_max = price_list[0], -99\n",
    "while right != len(price_list):\n",
    "    if price_list[right] < f_min:\n",
    "        left = right\n",
    "        f_min = price_list[right]\n",
    "        s_max = price_list[right+1]\n",
    "    elif price_list[right] > s_max:\n",
    "        s_max = price_list[right]\n",
    "    right += 1\n",
    "if s_max==-99:\n",
    "    print(0)\n",
    "else:\n",
    "    print(s_max-f_min)"
   ]
  },
  {
   "cell_type": "code",
   "execution_count": null,
   "metadata": {},
   "outputs": [],
   "source": [
    "list(map(int, input().split()))"
   ]
  },
  {
   "cell_type": "code",
   "execution_count": null,
   "metadata": {},
   "outputs": [],
   "source": [
    "n = \n",
    "print(''.join(str(i) for i in range(1, int(input())+1)).count('1'))"
   ]
  },
  {
   "cell_type": "code",
   "execution_count": null,
   "metadata": {},
   "outputs": [],
   "source": [
    "list = ['a', 'b', 'c', 'd', 'e']\n",
    "print(list[10:])"
   ]
  },
  {
   "cell_type": "code",
   "execution_count": null,
   "metadata": {},
   "outputs": [],
   "source": [
    "# 小昱购买了两款游戏，\n",
    "# 第一款游戏中共有n个关卡，通过第i关需要花ai的时间；\n",
    "# 第二款游戏中共有m个关卡，通过第i关需要花bi的时间。\n",
    "# 两款游戏都不允许跳过关卡，即必须要通过第i关，才能挑战第i+1关。\n",
    "# 小昱想知道在游戏时长不超过t的情况下，最多可以通过多少关？\n",
    "\n",
    "# 第一行输入三个整数n, m, t，分别表示两个的游戏的总关卡数以及总游戏时长。\n",
    "\n",
    "# 第二行输入n个整数a1,a2,…an，其中ai表示第一个游戏通过第i关需要的时间。\n",
    "\n",
    "# 第三行输入m个整数b1,b2,…bm，其中bi表示第二个游戏通过第i关需要的时间。\n",
    "\n",
    "# 1 ≤ n, m ≤ 30000, 1 ≤ t, ai, bi ≤ 109\n",
    "\n",
    "# 第一行输出一个整数，表示最多能够通过的关卡数。\n",
    "\n",
    "# 5 3 15\n",
    "# 1 3 2 9 1\n",
    "# 4 6 1\n",
    "\n",
    "# 5\n",
    "\n",
    "# 7 9 25\n",
    "# 2 4 5 1 5 9 1\n",
    "# 7 5 4 1 2 9 1 5 7\n",
    "\n",
    "# 7\n",
    "\n",
    "5 3 15\n",
    "1 3 2 4 9\n",
    "4 5 1"
   ]
  },
  {
   "cell_type": "code",
   "execution_count": null,
   "metadata": {},
   "outputs": [],
   "source": [
    "n, m, t = map(int, input().split())\n",
    "nl, ml = list(map(int, input().split())), list(map(int, input().split()))\n",
    "\n",
    "n_first = 0\n",
    "m_first = 0\n",
    "n_times = 0\n",
    "m_times = 0\n",
    "\n",
    "for i in nl:\n",
    "    if n_first+i<=t:\n",
    "        n_first+=i\n",
    "        n_times+=1\n",
    "    else:\n",
    "        break\n",
    "for j in ml:\n",
    "    if n_first+j<=t:\n",
    "        n_first+=j\n",
    "        n_times+=1\n",
    "    else:\n",
    "        break\n",
    "\n",
    "for i in ml:\n",
    "    if m_first+i<=t:\n",
    "        m_first+=i\n",
    "        m_times+=1\n",
    "    else:\n",
    "        break\n",
    "for j in nl:\n",
    "    if m_first+j<=t:\n",
    "        m_first+=j\n",
    "        m_times+=1\n",
    "    else:\n",
    "        break\n",
    "\n",
    "print(max(n_times, m_times))"
   ]
  },
  {
   "cell_type": "code",
   "execution_count": null,
   "metadata": {},
   "outputs": [],
   "source": [
    "# 第一行有两个整数n、m（1≤n,m≤2x105），分别代表士兵的数量与操作次数。\n",
    "\n",
    "# 第二行有n个整数h1,h2,……,hn（-109≤hi≤109），代表初始状态下从前往后各个士兵的战斗力。\n",
    "\n",
    "# 接下来m行按顺序给出所有操作，\n",
    "# 每行有两个整数t、k（1≤t≤2，1≤k≤n），t=1代表是小明的操作，否则是小红的操作，k代表对前k个士兵进行排序。\n",
    "\n",
    "# 4 2\n",
    "# 1 2 4 3\n",
    "# 2 3\n",
    "# 1 2\n",
    "\n",
    "# 2 4 1 3"
   ]
  },
  {
   "cell_type": "code",
   "execution_count": null,
   "metadata": {},
   "outputs": [],
   "source": [
    "n, m = map(int, input().split())\n",
    "h = list(map(int, input().split()))\n",
    "# for _ in range(m):\n",
    "#     t, k = map(int, input().split())\n",
    "#     if t==1:\n",
    "#         h[:k] = sorted(h[:k])\n",
    "#     else:\n",
    "#         h[:k] = sorted(h[:k], reverse=True)\n",
    "operator = [set(map(int, input().split()))]\n",
    "\n",
    "\n",
    "print(\" \".join(str(i) for i in h))"
   ]
  },
  {
   "cell_type": "code",
   "execution_count": null,
   "metadata": {},
   "outputs": [],
   "source": [
    "l = [1, 2, 4, 3]\n",
    "l.index(5)"
   ]
  },
  {
   "cell_type": "code",
   "execution_count": null,
   "metadata": {},
   "outputs": [],
   "source": [
    "from math import sqrt\n",
    "a = 81\n",
    "b = 81\n",
    "for i in range(4):\n",
    "    a = sqrt(a)\n",
    "    b+=a\n",
    "b"
   ]
  },
  {
   "cell_type": "code",
   "execution_count": null,
   "metadata": {},
   "outputs": [],
   "source": [
    "import sys\n",
    "\n",
    "for line in sys.stdin:\n",
    "    a = line.split()\n",
    "    print(int(a[0]) + int(a[1]))"
   ]
  },
  {
   "cell_type": "code",
   "execution_count": null,
   "metadata": {},
   "outputs": [],
   "source": [
    "feed = [[0,1],[0,2],[0,3]]\n",
    "pos = [0, 0]\n",
    "way = 0\n",
    "\n",
    "while feed:\n",
    "    nearly= 10001\n",
    "    nearest_index = 0\n",
    "    for i in range(len(feed)):\n",
    "        distance = abs(feed[i][0]-pos[0])+abs(feed[i][1]-pos[1])\n",
    "        # print(distance, nearly)\n",
    "        if distance<nearly:\n",
    "            nearly = distance\n",
    "            nearest_index = i\n",
    "            # print(nearly, nearest_index)\n",
    "    pos = feed[nearest_index]\n",
    "    way += nearly\n",
    "    del feed[nearest_index]\n",
    "\n",
    "print(way)"
   ]
  },
  {
   "cell_type": "code",
   "execution_count": null,
   "metadata": {},
   "outputs": [],
   "source": [
    "\n",
    "a(1, 1, 1)"
   ]
  },
  {
   "cell_type": "code",
   "execution_count": null,
   "metadata": {},
   "outputs": [],
   "source": [
    "# a = [4,13,6,14]\n",
    "# b = [28,11,20,8]\n",
    "a = [30,60,5,7]\n",
    "b = [18,20,6,8]\n",
    "\n",
    "def ap(a, b, c):\n",
    "    return int((a+b+c)*0.6)\n",
    "def bp(a, b, c):\n",
    "    return a+b+c-min(a, b, c)\n",
    "\n",
    "\n",
    "price = sorted(zip(a, b), key=lambda x : (x[0]-x[1], x[0]), reverse=True)\n",
    "left = 0\n",
    "right = 0\n",
    "total = 0\n",
    "last_neg = False\n",
    "to_b = False\n",
    "while right<len(price):\n",
    "    if price[right][0]-price[right][1] >= 0:\n",
    "        last_neg = True\n",
    "        to_b = True\n",
    "        right+=1\n",
    "    else:\n",
    "        if last_neg:\n",
    "            last_neg = False\n",
    "            if right-left<2:\n",
    "                to_b = False\n",
    "                right+=1\n",
    "            else:\n",
    "                right+=1\n",
    "    if right-left==3:\n",
    "        total += bp(*(i[1] for i in price[left:right])) if to_b else ap(*(i[0] for i in price[left:right]))\n",
    "        left = right"
   ]
  },
  {
   "cell_type": "code",
   "execution_count": null,
   "metadata": {},
   "outputs": [],
   "source": [
    "a = [30,60,5,7]\n",
    "b = [18,20,6,8]"
   ]
  },
  {
   "cell_type": "code",
   "execution_count": null,
   "metadata": {},
   "outputs": [],
   "source": [
    "list(sorted(zip(a, b), key=lambda x : (x[0]-x[1], x[0]), reverse=True))"
   ]
  },
  {
   "cell_type": "code",
   "execution_count": null,
   "metadata": {},
   "outputs": [],
   "source": [
    "ap(*(i[0] for i in price[0:3]))"
   ]
  },
  {
   "cell_type": "code",
   "execution_count": null,
   "metadata": {},
   "outputs": [],
   "source": [
    "a = [4,13,6,14]\n",
    "b = [28,11,20,8]\n",
    "\n",
    "def ap(a, b, c):\n",
    "    return int((a+b+c)*0.6)\n",
    "def bp(a, b, c):\n",
    "    return a+b+c-min(a, b, c)\n",
    "\n",
    "\n",
    "price = sorted(zip(a, b), key=lambda x : (x[0]-x[1], x[0]), reverse=True)"
   ]
  },
  {
   "cell_type": "code",
   "execution_count": null,
   "metadata": {},
   "outputs": [],
   "source": [
    "from random import randint\n",
    "\n",
    "arr = [randint(0, 9) for i in range(10)]\n",
    "print(arr)\n",
    "\n",
    "j = 1\n",
    "k = 1\n",
    "k_max = 1\n",
    "status = None   # 0 means arr[j]>arr[j-1], 1 means arr[j]<arr[j-1]\n",
    "while j<len(arr):\n",
    "    if arr[j]>arr[j-1] and status!=0:\n",
    "        status = 0\n",
    "        j += 1\n",
    "        k += 1\n",
    "    elif arr[j]<arr[j-1] and status!=1:\n",
    "        status = 1\n",
    "        j += 1\n",
    "        k += 1\n",
    "    else:\n",
    "        k = 1\n",
    "        if arr[j]==arr[j-1]:\n",
    "            j += 1\n",
    "            status = None\n",
    "        elif arr[j]>arr[j-1]:\n",
    "            status = 0\n",
    "            j += 1\n",
    "        else:\n",
    "            status = 1\n",
    "            j += 1\n",
    "    if k>k_max:\n",
    "        k_max = k\n",
    "print(k_max)"
   ]
  },
  {
   "cell_type": "code",
   "execution_count": null,
   "metadata": {},
   "outputs": [],
   "source": [
    "from itertools import combinations\n",
    "\n",
    "a = [1]\n",
    "b = [2, 3]\n",
    "\n",
    "for i in combinations((a, b)):\n",
    "    print(i)"
   ]
  },
  {
   "cell_type": "code",
   "execution_count": 6,
   "metadata": {},
   "outputs": [
    {
     "name": "stdout",
     "output_type": "stream",
     "text": [
      "'hahaha' in 'Enot' is 'False'\n",
      "'hahaha' in 'obmanul' is 'False'\n",
      "'hahaha' in 'manula' is 'False'\n",
      "'hahaha' in 'Hahaha' is 'False'\n",
      "'massiv' in 'Enot' is 'False'\n",
      "'massiv' in 'obmanul' is 'False'\n",
      "'massiv' in 'manula' is 'False'\n",
      "'massiv' in 'Hahaha' is 'False'\n",
      "'manul' in 'Enot' is 'False'\n",
      "'manul' in 'obmanul' is 'True'\n",
      "'manul' in 'manula' is 'True'\n",
      "'manul' in 'Hahaha' is 'False'\n"
     ]
    }
   ],
   "source": [
    "s = \"Enot obmanul manula Hahaha \"\n",
    "key = [\"hahaha\", \"massiv\", \"manul\"]\n",
    "for i in key:\n",
    "    for j in s.split():\n",
    "        print(f\"'{i}' in '{j}' is '{i in j}'\")\n",
    "            "
   ]
  },
  {
   "cell_type": "code",
   "execution_count": 1,
   "metadata": {},
   "outputs": [
    {
     "data": {
      "text/plain": [
       "36"
      ]
     },
     "execution_count": 1,
     "metadata": {},
     "output_type": "execute_result"
    }
   ],
   "source": [
    "1+2+4+1+2+5+1+3+6+1+3+7"
   ]
  },
  {
   "cell_type": "code",
   "execution_count": 3,
   "metadata": {},
   "outputs": [
    {
     "name": "stdout",
     "output_type": "stream",
     "text": [
      "5\n"
     ]
    }
   ],
   "source": [
    "# 小A正在负责某条产品线上的采样工作。由于各种原因，分析设备只有在输入样品重量的极差（即最大值与最小值之差）\n",
    "# 不超过给定的参数k时才能正确地检测样品质量。为了获得更精确的结果，\n",
    "# 小A需要选出尽可能多的样品进行检测。现在他想知道他最多可以同时检测多少个样品。\n",
    "\n",
    "# 第一行有两个正整数n,k(2<=n<=100000，1<=k<=1000000)。n代表样品总数，k代表问题描述中的参数。\n",
    "\n",
    "# 第二行有n个正整数，代表每个样品的重量。样品重量的范围在1到1000000之间\n",
    "\n",
    "# 输出一个非负整数，代表所求的答案\n",
    "\n",
    "# 6 3\n",
    "# 1 3 1 5 3 1\n",
    "\n",
    "# 5\n",
    "\n",
    "n, k = map(int, input().split())\n",
    "array = list(map(int, input().split()))\n",
    "\n",
    "counts = {}\n",
    "for i in array:\n",
    "    counts[i] = counts.setdefault(i, 1) + 1\n",
    "countr = [(key, value) for key, value in counts.items()]\n",
    "countr.sort(key=lambda x:x[1])\n",
    "result = 0\n",
    "local_min = countr[0][0]\n",
    "local_max = countr[0][0]\n",
    "for i in countr:\n",
    "    # if abs(i[0]-countr[0]) > k//2:\n",
    "    #     continue\n",
    "    if i[0]>local_max:\n",
    "        local_max = i[0]\n",
    "    elif i[0]<local_min:\n",
    "        local_min = i[0]\n",
    "    if local_max-local_min>k:\n",
    "        break\n",
    "    result += i[1]\n",
    "print(result)\n",
    "    \n",
    "# nearly = [(0, 0)]\n",
    "# for i in range(1, len(array)):\n",
    "#     nearly.append(tuple(i, array[i]-array[i-1]))\n"
   ]
  },
  {
   "cell_type": "code",
   "execution_count": 13,
   "metadata": {},
   "outputs": [
    {
     "name": "stdout",
     "output_type": "stream",
     "text": [
      "3\n"
     ]
    }
   ],
   "source": [
    "# 终于放假了。小A决定在假期期间出去旅游。她提前拟定了许多旅游路线，\n",
    "# 但预算只允许她选取三条路线旅游。每条旅游路线会占用一段连续日期。\n",
    "# 在小A选择的所有路线中，任意两条路线所占用的日期不能有重叠部分。\n",
    "# 现在她想知道有多少种选择三条互不冲突的路线的方案可以供她选择？\n",
    "\n",
    "# 第一行有一个正整数n(3<=n<=100000)，代表小A拟定的路线数量。\n",
    "# 第二行有n个正整数，第i个代表第i条路线的起始日期。\n",
    "# 第三行有n个正整数，第i个代表第i条路线的终止日期。\n",
    "# 输入保证起始日期不晚于终止日期。日期最大不超过1000000000。\n",
    "\n",
    "# 6\n",
    "# 4 1 3 2 1 2 \n",
    "# 4 1 3 3 2 2\n",
    "\n",
    "# 6\n",
    "\n",
    "from itertools import permutations, combinations\n",
    "\n",
    "n = int(input())\n",
    "start = map(int, input().split())\n",
    "end = map(int, input().split())\n",
    "project = list(sorted(zip(start, end), key=lambda x:x[0]))\n",
    "result = 0\n",
    "\n",
    "for a in range(n):\n",
    "    start, end = project[a]\n",
    "    for b in range(a+1, n):\n",
    "        if end >= project[b][0]:\n",
    "            continue\n",
    "        start, end = project[b]\n",
    "        for c in range(b+1, n):\n",
    "            if end >= project[c][0]:\n",
    "                continue\n",
    "            else:\n",
    "                result += 1\n",
    "            \n",
    "\n",
    "# for i in combinations(project, 3):\n",
    "    # i = list(sorted(i, key=lambda x:x[0]))\n",
    "    # start = i[0][0]\n",
    "    # end = i[0][1]\n",
    "    # # print(i)\n",
    "    # for j in range(1, 3):\n",
    "    #     if i[j][0]<=i[j-1][1]:\n",
    "    #         # print(\"xxxxxxxxx\")\n",
    "    #         break\n",
    "    # else:\n",
    "    #     result += 1\n",
    "    \n",
    "print(result)"
   ]
  },
  {
   "cell_type": "code",
   "execution_count": 10,
   "metadata": {},
   "outputs": [
    {
     "name": "stdout",
     "output_type": "stream",
     "text": [
      "1 2 3\n",
      "1 2 4\n",
      "1 2 5\n",
      "1 3 4\n",
      "1 3 5\n",
      "1 4 5\n",
      "2 3 4\n",
      "2 3 5\n",
      "2 4 5\n",
      "3 4 5\n"
     ]
    }
   ],
   "source": [
    "l = [1, 2, 3, 4, 5]\n",
    "\n",
    "for a in range(5):\n",
    "    for b in range(a+1, 5):\n",
    "        for c in range(b+1, 5):\n",
    "            print(l[a], l[b], l[c])"
   ]
  },
  {
   "cell_type": "code",
   "execution_count": null,
   "metadata": {},
   "outputs": [],
   "source": []
  }
 ],
 "metadata": {
  "interpreter": {
   "hash": "ec3b6344b8b3f6c3db1463248c46b8920f4fc68f6187e2c1e71f56a52299e245"
  },
  "kernelspec": {
   "display_name": "Python 3.7.0 ('base')",
   "language": "python",
   "name": "python3"
  },
  "language_info": {
   "codemirror_mode": {
    "name": "ipython",
    "version": 3
   },
   "file_extension": ".py",
   "mimetype": "text/x-python",
   "name": "python",
   "nbconvert_exporter": "python",
   "pygments_lexer": "ipython3",
   "version": "3.7.0"
  },
  "orig_nbformat": 4
 },
 "nbformat": 4,
 "nbformat_minor": 2
}
